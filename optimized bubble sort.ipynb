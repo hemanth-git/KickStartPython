{
 "cells": [
  {
   "cell_type": "code",
   "execution_count": 142,
   "metadata": {},
   "outputs": [
    {
     "name": "stdout",
     "output_type": "stream",
     "text": [
      "1 2 3\n",
      "1 2 3\n"
     ]
    }
   ],
   "source": [
    "def bubble_sort(list_cust):\n",
    "    n=len(list_cust)\n",
    "    for i in range(n):\n",
    "        swapped = False\n",
    "        for j in range(0,n-i-1):\n",
    "            if(list_cust[j]>list_cust[j+1]):\n",
    "                temp=list_cust[j]\n",
    "                list_cust[j]=list_cust[j+1]\n",
    "                list_cust[j+1]=temp\n",
    "                swapped = True\n",
    "        if swapped==False:\n",
    "            print_list(list_cust)\n",
    "            break\n",
    "        print_list(list_cust)\n",
    "\n",
    "def print_list(given_list):\n",
    "    string=\"\"+str(given_list[0])\n",
    "    for x in range(1,len(given_list)):\n",
    "        string=string+\" \"+str(given_list[x])\n",
    "    print(string)\n",
    "\n",
    "n=input()\n",
    "x_list=n.split(\" \")\n",
    "list_x =[int(x) for x in x_list]\n",
    "bubble_sort(list_x)"
   ]
  },
  {
   "cell_type": "code",
   "execution_count": null,
   "metadata": {},
   "outputs": [],
   "source": []
  },
  {
   "cell_type": "code",
   "execution_count": 140,
   "metadata": {},
   "outputs": [
    {
     "name": "stdout",
     "output_type": "stream",
     "text": [
      "1 4 2 5 8\n",
      "1 2 4 5 8\n",
      "1 2 4 5 8\n"
     ]
    }
   ],
   "source": [
    "list_cust=[5,4,3,7,8,9]\n",
    "list_cust=[5,1,4,2,8]\n",
    "\n",
    "n=input()\n",
    "x_list=n.split(\" \")\n",
    "list_x =[int(x) for x in x_list]\n",
    "bubble_sort(list_cust)\n"
   ]
  },
  {
   "cell_type": "code",
   "execution_count": null,
   "metadata": {},
   "outputs": [],
   "source": []
  },
  {
   "cell_type": "code",
   "execution_count": null,
   "metadata": {},
   "outputs": [],
   "source": []
  }
 ],
 "metadata": {
  "kernelspec": {
   "display_name": "Python 3",
   "language": "python",
   "name": "python3"
  },
  "language_info": {
   "codemirror_mode": {
    "name": "ipython",
    "version": 3
   },
   "file_extension": ".py",
   "mimetype": "text/x-python",
   "name": "python",
   "nbconvert_exporter": "python",
   "pygments_lexer": "ipython3",
   "version": "3.6.5"
  }
 },
 "nbformat": 4,
 "nbformat_minor": 2
}
