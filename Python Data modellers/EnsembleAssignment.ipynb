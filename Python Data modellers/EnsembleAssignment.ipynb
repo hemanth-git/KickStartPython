{
 "cells": [
  {
   "cell_type": "code",
   "execution_count": 1,
   "metadata": {
    "collapsed": true
   },
   "outputs": [],
   "source": [
    "import os\n",
    "import pandas as pd\n",
    "import numpy as np\n",
    "import matplotlib.pyplot as plt\n",
    "%matplotlib inline"
   ]
  },
  {
   "cell_type": "code",
   "execution_count": 2,
   "metadata": {
    "collapsed": true
   },
   "outputs": [],
   "source": [
    "data_dir=\"E:\\\\Work\\\\Python\\\\PythonTrainings\\\\PythonMcKinsey\\\\Data\\\\assignment_data\"\n",
    "os.chdir(data_dir)"
   ]
  },
  {
   "cell_type": "code",
   "execution_count": 3,
   "metadata": {
    "collapsed": true
   },
   "outputs": [],
   "source": [
    "data=pd.read_csv(\"Emp_attri.csv\")"
   ]
  },
  {
   "cell_type": "code",
   "execution_count": 4,
   "metadata": {},
   "outputs": [
    {
     "data": {
      "text/html": [
       "<div>\n",
       "<style>\n",
       "    .dataframe thead tr:only-child th {\n",
       "        text-align: right;\n",
       "    }\n",
       "\n",
       "    .dataframe thead th {\n",
       "        text-align: left;\n",
       "    }\n",
       "\n",
       "    .dataframe tbody tr th {\n",
       "        vertical-align: top;\n",
       "    }\n",
       "</style>\n",
       "<table border=\"1\" class=\"dataframe\">\n",
       "  <thead>\n",
       "    <tr style=\"text-align: right;\">\n",
       "      <th></th>\n",
       "      <th>Age</th>\n",
       "      <th>Attrition</th>\n",
       "      <th>BusinessTravel</th>\n",
       "      <th>DailyRate</th>\n",
       "      <th>Department</th>\n",
       "      <th>DistanceFromHome</th>\n",
       "      <th>Education</th>\n",
       "      <th>EducationField</th>\n",
       "      <th>EmployeeCount</th>\n",
       "      <th>EmployeeNumber</th>\n",
       "      <th>...</th>\n",
       "      <th>RelationshipSatisfaction</th>\n",
       "      <th>StandardHours</th>\n",
       "      <th>StockOptionLevel</th>\n",
       "      <th>TotalWorkingYears</th>\n",
       "      <th>TrainingTimesLastYear</th>\n",
       "      <th>WorkLifeBalance</th>\n",
       "      <th>YearsAtCompany</th>\n",
       "      <th>YearsInCurrentRole</th>\n",
       "      <th>YearsSinceLastPromotion</th>\n",
       "      <th>YearsWithCurrManager</th>\n",
       "    </tr>\n",
       "  </thead>\n",
       "  <tbody>\n",
       "    <tr>\n",
       "      <th>0</th>\n",
       "      <td>41</td>\n",
       "      <td>Yes</td>\n",
       "      <td>Travel_Rarely</td>\n",
       "      <td>1102</td>\n",
       "      <td>Sales</td>\n",
       "      <td>1</td>\n",
       "      <td>2</td>\n",
       "      <td>Life Sciences</td>\n",
       "      <td>1</td>\n",
       "      <td>1</td>\n",
       "      <td>...</td>\n",
       "      <td>1</td>\n",
       "      <td>80</td>\n",
       "      <td>0</td>\n",
       "      <td>8</td>\n",
       "      <td>0</td>\n",
       "      <td>1</td>\n",
       "      <td>6</td>\n",
       "      <td>4</td>\n",
       "      <td>0</td>\n",
       "      <td>5</td>\n",
       "    </tr>\n",
       "    <tr>\n",
       "      <th>1</th>\n",
       "      <td>49</td>\n",
       "      <td>No</td>\n",
       "      <td>Travel_Frequently</td>\n",
       "      <td>279</td>\n",
       "      <td>Research &amp; Development</td>\n",
       "      <td>8</td>\n",
       "      <td>1</td>\n",
       "      <td>Life Sciences</td>\n",
       "      <td>1</td>\n",
       "      <td>2</td>\n",
       "      <td>...</td>\n",
       "      <td>4</td>\n",
       "      <td>80</td>\n",
       "      <td>1</td>\n",
       "      <td>10</td>\n",
       "      <td>3</td>\n",
       "      <td>3</td>\n",
       "      <td>10</td>\n",
       "      <td>7</td>\n",
       "      <td>1</td>\n",
       "      <td>7</td>\n",
       "    </tr>\n",
       "    <tr>\n",
       "      <th>2</th>\n",
       "      <td>37</td>\n",
       "      <td>Yes</td>\n",
       "      <td>Travel_Rarely</td>\n",
       "      <td>1373</td>\n",
       "      <td>Research &amp; Development</td>\n",
       "      <td>2</td>\n",
       "      <td>2</td>\n",
       "      <td>Other</td>\n",
       "      <td>1</td>\n",
       "      <td>4</td>\n",
       "      <td>...</td>\n",
       "      <td>2</td>\n",
       "      <td>80</td>\n",
       "      <td>0</td>\n",
       "      <td>7</td>\n",
       "      <td>3</td>\n",
       "      <td>3</td>\n",
       "      <td>0</td>\n",
       "      <td>0</td>\n",
       "      <td>0</td>\n",
       "      <td>0</td>\n",
       "    </tr>\n",
       "  </tbody>\n",
       "</table>\n",
       "<p>3 rows × 35 columns</p>\n",
       "</div>"
      ],
      "text/plain": [
       "   Age Attrition     BusinessTravel  DailyRate              Department  \\\n",
       "0   41       Yes      Travel_Rarely       1102                   Sales   \n",
       "1   49        No  Travel_Frequently        279  Research & Development   \n",
       "2   37       Yes      Travel_Rarely       1373  Research & Development   \n",
       "\n",
       "   DistanceFromHome  Education EducationField  EmployeeCount  EmployeeNumber  \\\n",
       "0                 1          2  Life Sciences              1               1   \n",
       "1                 8          1  Life Sciences              1               2   \n",
       "2                 2          2          Other              1               4   \n",
       "\n",
       "           ...           RelationshipSatisfaction StandardHours  \\\n",
       "0          ...                                  1            80   \n",
       "1          ...                                  4            80   \n",
       "2          ...                                  2            80   \n",
       "\n",
       "   StockOptionLevel  TotalWorkingYears  TrainingTimesLastYear WorkLifeBalance  \\\n",
       "0                 0                  8                      0               1   \n",
       "1                 1                 10                      3               3   \n",
       "2                 0                  7                      3               3   \n",
       "\n",
       "   YearsAtCompany YearsInCurrentRole  YearsSinceLastPromotion  \\\n",
       "0               6                  4                        0   \n",
       "1              10                  7                        1   \n",
       "2               0                  0                        0   \n",
       "\n",
       "   YearsWithCurrManager  \n",
       "0                     5  \n",
       "1                     7  \n",
       "2                     0  \n",
       "\n",
       "[3 rows x 35 columns]"
      ]
     },
     "execution_count": 4,
     "metadata": {},
     "output_type": "execute_result"
    }
   ],
   "source": [
    "data.head(3)"
   ]
  },
  {
   "cell_type": "code",
   "execution_count": 5,
   "metadata": {},
   "outputs": [
    {
     "data": {
      "text/plain": [
       "Age                          int64\n",
       "Attrition                   object\n",
       "BusinessTravel              object\n",
       "DailyRate                    int64\n",
       "Department                  object\n",
       "DistanceFromHome             int64\n",
       "Education                    int64\n",
       "EducationField              object\n",
       "EmployeeCount                int64\n",
       "EmployeeNumber               int64\n",
       "EnvironmentSatisfaction      int64\n",
       "Gender                      object\n",
       "HourlyRate                   int64\n",
       "JobInvolvement               int64\n",
       "JobLevel                     int64\n",
       "JobRole                     object\n",
       "JobSatisfaction              int64\n",
       "MaritalStatus               object\n",
       "MonthlyIncome                int64\n",
       "MonthlyRate                  int64\n",
       "NumCompaniesWorked           int64\n",
       "Over18                      object\n",
       "OverTime                    object\n",
       "PercentSalaryHike            int64\n",
       "PerformanceRating            int64\n",
       "RelationshipSatisfaction     int64\n",
       "StandardHours                int64\n",
       "StockOptionLevel             int64\n",
       "TotalWorkingYears            int64\n",
       "TrainingTimesLastYear        int64\n",
       "WorkLifeBalance              int64\n",
       "YearsAtCompany               int64\n",
       "YearsInCurrentRole           int64\n",
       "YearsSinceLastPromotion      int64\n",
       "YearsWithCurrManager         int64\n",
       "dtype: object"
      ]
     },
     "execution_count": 5,
     "metadata": {},
     "output_type": "execute_result"
    }
   ],
   "source": [
    "data.dtypes"
   ]
  },
  {
   "cell_type": "code",
   "execution_count": 6,
   "metadata": {},
   "outputs": [
    {
     "name": "stdout",
     "output_type": "stream",
     "text": [
      "Summary of Age\n",
      " count    1470.000000\n",
      "mean       36.923810\n",
      "std         9.135373\n",
      "min        18.000000\n",
      "25%        30.000000\n",
      "50%        36.000000\n",
      "75%        43.000000\n",
      "max        60.000000\n",
      "Name: Age, dtype: float64\n",
      "Summary of DailyRate\n",
      " count    1470.000000\n",
      "mean      802.485714\n",
      "std       403.509100\n",
      "min       102.000000\n",
      "25%       465.000000\n",
      "50%       802.000000\n",
      "75%      1157.000000\n",
      "max      1499.000000\n",
      "Name: DailyRate, dtype: float64\n",
      "Summary of DistanceFromHome\n",
      " count    1470.000000\n",
      "mean        9.192517\n",
      "std         8.106864\n",
      "min         1.000000\n",
      "25%         2.000000\n",
      "50%         7.000000\n",
      "75%        14.000000\n",
      "max        29.000000\n",
      "Name: DistanceFromHome, dtype: float64\n",
      "Summary of Education\n",
      " count    1470.000000\n",
      "mean        2.912925\n",
      "std         1.024165\n",
      "min         1.000000\n",
      "25%         2.000000\n",
      "50%         3.000000\n",
      "75%         4.000000\n",
      "max         5.000000\n",
      "Name: Education, dtype: float64\n",
      "Summary of EmployeeCount\n",
      " count    1470.0\n",
      "mean        1.0\n",
      "std         0.0\n",
      "min         1.0\n",
      "25%         1.0\n",
      "50%         1.0\n",
      "75%         1.0\n",
      "max         1.0\n",
      "Name: EmployeeCount, dtype: float64\n",
      "Summary of EmployeeNumber\n",
      " count    1470.000000\n",
      "mean     1024.865306\n",
      "std       602.024335\n",
      "min         1.000000\n",
      "25%       491.250000\n",
      "50%      1020.500000\n",
      "75%      1555.750000\n",
      "max      2068.000000\n",
      "Name: EmployeeNumber, dtype: float64\n",
      "Summary of EnvironmentSatisfaction\n",
      " count    1470.000000\n",
      "mean        2.721769\n",
      "std         1.093082\n",
      "min         1.000000\n",
      "25%         2.000000\n",
      "50%         3.000000\n",
      "75%         4.000000\n",
      "max         4.000000\n",
      "Name: EnvironmentSatisfaction, dtype: float64\n",
      "Summary of HourlyRate\n",
      " count    1470.000000\n",
      "mean       65.891156\n",
      "std        20.329428\n",
      "min        30.000000\n",
      "25%        48.000000\n",
      "50%        66.000000\n",
      "75%        83.750000\n",
      "max       100.000000\n",
      "Name: HourlyRate, dtype: float64\n",
      "Summary of JobInvolvement\n",
      " count    1470.000000\n",
      "mean        2.729932\n",
      "std         0.711561\n",
      "min         1.000000\n",
      "25%         2.000000\n",
      "50%         3.000000\n",
      "75%         3.000000\n",
      "max         4.000000\n",
      "Name: JobInvolvement, dtype: float64\n",
      "Summary of JobLevel\n",
      " count    1470.000000\n",
      "mean        2.063946\n",
      "std         1.106940\n",
      "min         1.000000\n",
      "25%         1.000000\n",
      "50%         2.000000\n",
      "75%         3.000000\n",
      "max         5.000000\n",
      "Name: JobLevel, dtype: float64\n",
      "Summary of JobSatisfaction\n",
      " count    1470.000000\n",
      "mean        2.728571\n",
      "std         1.102846\n",
      "min         1.000000\n",
      "25%         2.000000\n",
      "50%         3.000000\n",
      "75%         4.000000\n",
      "max         4.000000\n",
      "Name: JobSatisfaction, dtype: float64\n",
      "Summary of MonthlyIncome\n",
      " count     1470.000000\n",
      "mean      6502.931293\n",
      "std       4707.956783\n",
      "min       1009.000000\n",
      "25%       2911.000000\n",
      "50%       4919.000000\n",
      "75%       8379.000000\n",
      "max      19999.000000\n",
      "Name: MonthlyIncome, dtype: float64\n",
      "Summary of MonthlyRate\n",
      " count     1470.000000\n",
      "mean     14313.103401\n",
      "std       7117.786044\n",
      "min       2094.000000\n",
      "25%       8047.000000\n",
      "50%      14235.500000\n",
      "75%      20461.500000\n",
      "max      26999.000000\n",
      "Name: MonthlyRate, dtype: float64\n",
      "Summary of NumCompaniesWorked\n",
      " count    1470.000000\n",
      "mean        2.693197\n",
      "std         2.498009\n",
      "min         0.000000\n",
      "25%         1.000000\n",
      "50%         2.000000\n",
      "75%         4.000000\n",
      "max         9.000000\n",
      "Name: NumCompaniesWorked, dtype: float64\n",
      "Summary of PercentSalaryHike\n",
      " count    1470.000000\n",
      "mean       15.209524\n",
      "std         3.659938\n",
      "min        11.000000\n",
      "25%        12.000000\n",
      "50%        14.000000\n",
      "75%        18.000000\n",
      "max        25.000000\n",
      "Name: PercentSalaryHike, dtype: float64\n",
      "Summary of PerformanceRating\n",
      " count    1470.000000\n",
      "mean        3.153741\n",
      "std         0.360824\n",
      "min         3.000000\n",
      "25%         3.000000\n",
      "50%         3.000000\n",
      "75%         3.000000\n",
      "max         4.000000\n",
      "Name: PerformanceRating, dtype: float64\n",
      "Summary of RelationshipSatisfaction\n",
      " count    1470.000000\n",
      "mean        2.712245\n",
      "std         1.081209\n",
      "min         1.000000\n",
      "25%         2.000000\n",
      "50%         3.000000\n",
      "75%         4.000000\n",
      "max         4.000000\n",
      "Name: RelationshipSatisfaction, dtype: float64\n",
      "Summary of StandardHours\n",
      " count    1470.0\n",
      "mean       80.0\n",
      "std         0.0\n",
      "min        80.0\n",
      "25%        80.0\n",
      "50%        80.0\n",
      "75%        80.0\n",
      "max        80.0\n",
      "Name: StandardHours, dtype: float64\n",
      "Summary of StockOptionLevel\n",
      " count    1470.000000\n",
      "mean        0.793878\n",
      "std         0.852077\n",
      "min         0.000000\n",
      "25%         0.000000\n",
      "50%         1.000000\n",
      "75%         1.000000\n",
      "max         3.000000\n",
      "Name: StockOptionLevel, dtype: float64\n",
      "Summary of TotalWorkingYears\n",
      " count    1470.000000\n",
      "mean       11.279592\n",
      "std         7.780782\n",
      "min         0.000000\n",
      "25%         6.000000\n",
      "50%        10.000000\n",
      "75%        15.000000\n",
      "max        40.000000\n",
      "Name: TotalWorkingYears, dtype: float64\n",
      "Summary of TrainingTimesLastYear\n",
      " count    1470.000000\n",
      "mean        2.799320\n",
      "std         1.289271\n",
      "min         0.000000\n",
      "25%         2.000000\n",
      "50%         3.000000\n",
      "75%         3.000000\n",
      "max         6.000000\n",
      "Name: TrainingTimesLastYear, dtype: float64\n",
      "Summary of WorkLifeBalance\n",
      " count    1470.000000\n",
      "mean        2.761224\n",
      "std         0.706476\n",
      "min         1.000000\n",
      "25%         2.000000\n",
      "50%         3.000000\n",
      "75%         3.000000\n",
      "max         4.000000\n",
      "Name: WorkLifeBalance, dtype: float64\n",
      "Summary of YearsAtCompany\n",
      " count    1470.000000\n",
      "mean        7.008163\n",
      "std         6.126525\n",
      "min         0.000000\n",
      "25%         3.000000\n",
      "50%         5.000000\n",
      "75%         9.000000\n",
      "max        40.000000\n",
      "Name: YearsAtCompany, dtype: float64\n",
      "Summary of YearsInCurrentRole\n",
      " count    1470.000000\n",
      "mean        4.229252\n",
      "std         3.623137\n",
      "min         0.000000\n",
      "25%         2.000000\n",
      "50%         3.000000\n",
      "75%         7.000000\n",
      "max        18.000000\n",
      "Name: YearsInCurrentRole, dtype: float64\n",
      "Summary of YearsSinceLastPromotion\n",
      " count    1470.000000\n",
      "mean        2.187755\n",
      "std         3.222430\n",
      "min         0.000000\n",
      "25%         0.000000\n",
      "50%         1.000000\n",
      "75%         3.000000\n",
      "max        15.000000\n",
      "Name: YearsSinceLastPromotion, dtype: float64\n",
      "Summary of YearsWithCurrManager\n",
      " count    1470.000000\n",
      "mean        4.123129\n",
      "std         3.568136\n",
      "min         0.000000\n",
      "25%         2.000000\n",
      "50%         3.000000\n",
      "75%         7.000000\n",
      "max        17.000000\n",
      "Name: YearsWithCurrManager, dtype: float64\n"
     ]
    }
   ],
   "source": [
    "## Do exploration\n",
    "for col in data.dtypes[data.dtypes!=\"object\"].index:\n",
    "    print(\"Summary of \"+col+\"\\n\",data[col].describe())"
   ]
  },
  {
   "cell_type": "code",
   "execution_count": 7,
   "metadata": {},
   "outputs": [
    {
     "data": {
      "text/plain": [
       "No     1233\n",
       "Yes     237\n",
       "Name: Attrition, dtype: int64"
      ]
     },
     "execution_count": 7,
     "metadata": {},
     "output_type": "execute_result"
    }
   ],
   "source": [
    "data['Attrition'].value_counts()"
   ]
  },
  {
   "cell_type": "code",
   "execution_count": 8,
   "metadata": {
    "collapsed": true
   },
   "outputs": [],
   "source": [
    "data['Attrition']=data['Attrition'].map(lambda x: 1 if x==\"Yes\" else 0)"
   ]
  },
  {
   "cell_type": "code",
   "execution_count": 9,
   "metadata": {},
   "outputs": [
    {
     "data": {
      "text/plain": [
       "Index(['Age', 'Attrition', 'DailyRate', 'DistanceFromHome', 'Education',\n",
       "       'EmployeeCount', 'EmployeeNumber', 'EnvironmentSatisfaction',\n",
       "       'HourlyRate', 'JobInvolvement', 'JobLevel', 'JobSatisfaction',\n",
       "       'MonthlyIncome', 'MonthlyRate', 'NumCompaniesWorked',\n",
       "       'PercentSalaryHike', 'PerformanceRating', 'RelationshipSatisfaction',\n",
       "       'StandardHours', 'StockOptionLevel', 'TotalWorkingYears',\n",
       "       'TrainingTimesLastYear', 'WorkLifeBalance', 'YearsAtCompany',\n",
       "       'YearsInCurrentRole', 'YearsSinceLastPromotion',\n",
       "       'YearsWithCurrManager'],\n",
       "      dtype='object')"
      ]
     },
     "execution_count": 9,
     "metadata": {},
     "output_type": "execute_result"
    }
   ],
   "source": [
    "data.dtypes[data.dtypes!=\"object\"].index"
   ]
  },
  {
   "cell_type": "code",
   "execution_count": 10,
   "metadata": {
    "collapsed": true
   },
   "outputs": [],
   "source": [
    "num_features=[\"Age\",\"DailyRate\",\"Attrition\",\"DistanceFromHome\",\"HourlyRate\",\"JobSatisfaction\",\"MonthlyIncome\",\n",
    "             \"NumCompaniesWorked\",\"PercentSalaryHike\",\"PerformanceRating\",'TrainingTimesLastYear', 'WorkLifeBalance', \n",
    "              'YearsAtCompany','YearsInCurrentRole', 'YearsSinceLastPromotion','YearsWithCurrManager']"
   ]
  },
  {
   "cell_type": "code",
   "execution_count": 11,
   "metadata": {},
   "outputs": [
    {
     "data": {
      "text/plain": [
       "Index(['BusinessTravel', 'Department', 'EducationField', 'Gender', 'JobRole',\n",
       "       'MaritalStatus', 'Over18', 'OverTime'],\n",
       "      dtype='object')"
      ]
     },
     "execution_count": 11,
     "metadata": {},
     "output_type": "execute_result"
    }
   ],
   "source": [
    "data.dtypes[data.dtypes==\"object\"].index"
   ]
  },
  {
   "cell_type": "code",
   "execution_count": 12,
   "metadata": {
    "collapsed": true
   },
   "outputs": [],
   "source": [
    "cat_features=[\"BusinessTravel\",\"Department\",\"Gender\",\"JobRole\",\"MaritalStatus\",\"OverTime\"]"
   ]
  },
  {
   "cell_type": "code",
   "execution_count": 13,
   "metadata": {
    "collapsed": true
   },
   "outputs": [],
   "source": [
    "data_rel=data[num_features+cat_features]"
   ]
  },
  {
   "cell_type": "code",
   "execution_count": 14,
   "metadata": {},
   "outputs": [
    {
     "data": {
      "text/plain": [
       "Age                        0\n",
       "DailyRate                  0\n",
       "Attrition                  0\n",
       "DistanceFromHome           0\n",
       "HourlyRate                 0\n",
       "JobSatisfaction            0\n",
       "MonthlyIncome              0\n",
       "NumCompaniesWorked         0\n",
       "PercentSalaryHike          0\n",
       "PerformanceRating          0\n",
       "TrainingTimesLastYear      0\n",
       "WorkLifeBalance            0\n",
       "YearsAtCompany             0\n",
       "YearsInCurrentRole         0\n",
       "YearsSinceLastPromotion    0\n",
       "YearsWithCurrManager       0\n",
       "BusinessTravel             0\n",
       "Department                 0\n",
       "Gender                     0\n",
       "JobRole                    0\n",
       "MaritalStatus              0\n",
       "OverTime                   0\n",
       "dtype: int64"
      ]
     },
     "execution_count": 14,
     "metadata": {},
     "output_type": "execute_result"
    }
   ],
   "source": [
    "data_rel.isnull().sum()"
   ]
  },
  {
   "cell_type": "code",
   "execution_count": 15,
   "metadata": {
    "collapsed": true
   },
   "outputs": [],
   "source": [
    "data_rel=pd.get_dummies(data_rel)"
   ]
  },
  {
   "cell_type": "code",
   "execution_count": 16,
   "metadata": {
    "collapsed": true
   },
   "outputs": [],
   "source": [
    "X=data_rel.drop(\"Attrition\",axis=1)"
   ]
  },
  {
   "cell_type": "code",
   "execution_count": 17,
   "metadata": {
    "collapsed": true
   },
   "outputs": [],
   "source": [
    "y=data_rel['Attrition']"
   ]
  },
  {
   "cell_type": "code",
   "execution_count": 18,
   "metadata": {
    "collapsed": true
   },
   "outputs": [],
   "source": [
    "import sklearn.ensemble as ensemble\n",
    "import sklearn.model_selection as model_selection\n",
    "import sklearn.metrics as metrics"
   ]
  },
  {
   "cell_type": "code",
   "execution_count": 19,
   "metadata": {
    "collapsed": true
   },
   "outputs": [],
   "source": [
    "## Get train and test data\n",
    "X_train,X_test,y_train,y_test=model_selection.train_test_split(X,y,test_size=0.30,random_state=200)"
   ]
  },
  {
   "cell_type": "code",
   "execution_count": 20,
   "metadata": {
    "collapsed": true
   },
   "outputs": [],
   "source": [
    "mod=ensemble.RandomForestClassifier(n_estimators=20,oob_score=True)"
   ]
  },
  {
   "cell_type": "code",
   "execution_count": 22,
   "metadata": {},
   "outputs": [],
   "source": [
    "param_grid=np.arange(20,500,10)"
   ]
  },
  {
   "cell_type": "code",
   "execution_count": 25,
   "metadata": {},
   "outputs": [
    {
     "name": "stdout",
     "output_type": "stream",
     "text": [
      "For n = 20 trees, the oob score is 0.86\n",
      "For n = 30 trees, the oob score is 0.858\n",
      "For n = 40 trees, the oob score is 0.857\n",
      "For n = 50 trees, the oob score is 0.856\n",
      "For n = 60 trees, the oob score is 0.864\n",
      "For n = 70 trees, the oob score is 0.866\n",
      "For n = 80 trees, the oob score is 0.863\n",
      "For n = 90 trees, the oob score is 0.863\n",
      "For n = 100 trees, the oob score is 0.867\n",
      "For n = 110 trees, the oob score is 0.865\n",
      "For n = 120 trees, the oob score is 0.863\n",
      "For n = 130 trees, the oob score is 0.863\n",
      "For n = 140 trees, the oob score is 0.863\n",
      "For n = 150 trees, the oob score is 0.861\n",
      "For n = 160 trees, the oob score is 0.862\n",
      "For n = 170 trees, the oob score is 0.862\n",
      "For n = 180 trees, the oob score is 0.865\n",
      "For n = 190 trees, the oob score is 0.865\n",
      "For n = 200 trees, the oob score is 0.866\n",
      "For n = 210 trees, the oob score is 0.866\n",
      "For n = 220 trees, the oob score is 0.866\n",
      "For n = 230 trees, the oob score is 0.865\n",
      "For n = 240 trees, the oob score is 0.865\n",
      "For n = 250 trees, the oob score is 0.865\n",
      "For n = 260 trees, the oob score is 0.862\n",
      "For n = 270 trees, the oob score is 0.862\n",
      "For n = 280 trees, the oob score is 0.863\n",
      "For n = 290 trees, the oob score is 0.863\n",
      "For n = 300 trees, the oob score is 0.864\n",
      "For n = 310 trees, the oob score is 0.865\n",
      "For n = 320 trees, the oob score is 0.862\n",
      "For n = 330 trees, the oob score is 0.862\n",
      "For n = 340 trees, the oob score is 0.86\n",
      "For n = 350 trees, the oob score is 0.862\n",
      "For n = 360 trees, the oob score is 0.861\n",
      "For n = 370 trees, the oob score is 0.862\n",
      "For n = 380 trees, the oob score is 0.861\n",
      "For n = 390 trees, the oob score is 0.863\n",
      "For n = 400 trees, the oob score is 0.863\n",
      "For n = 410 trees, the oob score is 0.861\n",
      "For n = 420 trees, the oob score is 0.858\n",
      "For n = 430 trees, the oob score is 0.86\n",
      "For n = 440 trees, the oob score is 0.859\n",
      "For n = 450 trees, the oob score is 0.862\n",
      "For n = 460 trees, the oob score is 0.862\n",
      "For n = 470 trees, the oob score is 0.863\n",
      "For n = 480 trees, the oob score is 0.862\n",
      "For n = 490 trees, the oob score is 0.864\n"
     ]
    }
   ],
   "source": [
    "## Manually loop over to do a grid seacrh\n",
    "oob=[]\n",
    "for n in param_grid:\n",
    "    mod=ensemble.RandomForestClassifier(n_estimators=n,oob_score=True,random_state=200)\n",
    "    mod.fit(X_train,y_train)\n",
    "    print(\"For n = \"+str(n)+\" trees, the oob score is \"+str(np.round(mod.oob_score_,3)))\n",
    "    oob.append(mod.oob_score_)"
   ]
  },
  {
   "cell_type": "code",
   "execution_count": 27,
   "metadata": {},
   "outputs": [
    {
     "data": {
      "text/plain": [
       "[<matplotlib.lines.Line2D at 0xbcbef21c50>]"
      ]
     },
     "execution_count": 27,
     "metadata": {},
     "output_type": "execute_result"
    },
    {
     "data": {
      "image/png": "[encoded data removed]",
      "text/plain": [
       "<matplotlib.figure.Figure at 0xbcbd322c50>"
      ]
     },
     "metadata": {},
     "output_type": "display_data"
    }
   ],
   "source": [
    "plt.plot(np.arange(20,500,10),oob,\"-\")"
   ]
  },
  {
   "cell_type": "code",
   "execution_count": 28,
   "metadata": {
    "collapsed": true
   },
   "outputs": [],
   "source": [
    "## Select a tree model with 100 trees\n",
    "mod_final=ensemble.RandomForestClassifier(n_estimators=100,random_state=200,oob_score=True).fit(X_train,y_train)"
   ]
  },
  {
   "cell_type": "code",
   "execution_count": 29,
   "metadata": {},
   "outputs": [
    {
     "data": {
      "text/plain": [
       "0.8668610301263362"
      ]
     },
     "execution_count": 29,
     "metadata": {},
     "output_type": "execute_result"
    }
   ],
   "source": [
    "mod_final.oob_score_"
   ]
  },
  {
   "cell_type": "code",
   "execution_count": 37,
   "metadata": {},
   "outputs": [],
   "source": [
    "## Model evaluation on test data\n",
    "y_pred=mod_final.predict_proba(X_test)[:,1]"
   ]
  },
  {
   "cell_type": "code",
   "execution_count": 38,
   "metadata": {
    "collapsed": true
   },
   "outputs": [],
   "source": [
    "fpr,tpr,threshold=metrics.roc_curve(y_test,y_pred)"
   ]
  },
  {
   "cell_type": "code",
   "execution_count": 39,
   "metadata": {},
   "outputs": [
    {
     "data": {
      "text/plain": [
       "[<matplotlib.lines.Line2D at 0xbcbad6dc50>]"
      ]
     },
     "execution_count": 39,
     "metadata": {},
     "output_type": "execute_result"
    },
    {
     "data": {
      "image/png": "[encoded data removed]",
      "text/plain": [
       "<matplotlib.figure.Figure at 0xbcbad6d198>"
      ]
     },
     "metadata": {},
     "output_type": "display_data"
    }
   ],
   "source": [
    "plt.plot(fpr,tpr,\"-\")"
   ]
  },
  {
   "cell_type": "code",
   "execution_count": 40,
   "metadata": {},
   "outputs": [
    {
     "data": {
      "text/plain": [
       "0.76139070875521142"
      ]
     },
     "execution_count": 40,
     "metadata": {},
     "output_type": "execute_result"
    }
   ],
   "source": [
    "metrics.roc_auc_score(y_test,y_pred)"
   ]
  },
  {
   "cell_type": "code",
   "execution_count": 79,
   "metadata": {},
   "outputs": [],
   "source": [
    "gains=pd.DataFrame()"
   ]
  },
  {
   "cell_type": "code",
   "execution_count": 80,
   "metadata": {
    "collapsed": true
   },
   "outputs": [],
   "source": [
    "gains['Target']=y_test"
   ]
  },
  {
   "cell_type": "code",
   "execution_count": 81,
   "metadata": {
    "collapsed": true
   },
   "outputs": [],
   "source": [
    "gains[\"P.Decile\"]=pd.qcut(y_pred,q=10)"
   ]
  },
  {
   "cell_type": "code",
   "execution_count": 82,
   "metadata": {},
   "outputs": [],
   "source": [
    "gains=gains.groupby(\"P.Decile\",as_index=False)['Target'].agg([np.sum,np.size]).reset_index().rename(columns={\"sum\":\"Events\",\"size\":\"Number\"})"
   ]
  },
  {
   "cell_type": "code",
   "execution_count": 83,
   "metadata": {},
   "outputs": [],
   "source": [
    "gains=gains.sort_values(\"P.Decile\",ascending=False)"
   ]
  },
  {
   "cell_type": "code",
   "execution_count": 85,
   "metadata": {},
   "outputs": [],
   "source": [
    "gains[\"EventRate\"]=gains[\"Events\"]/gains[\"Events\"].sum()"
   ]
  },
  {
   "cell_type": "code",
   "execution_count": 86,
   "metadata": {},
   "outputs": [],
   "source": [
    "gains[\"CumRate\"]=gains[\"EventRate\"].cumsum()"
   ]
  },
  {
   "cell_type": "code",
   "execution_count": 87,
   "metadata": {},
   "outputs": [
    {
     "data": {
      "text/html": [
       "<div>\n",
       "<style>\n",
       "    .dataframe thead tr:only-child th {\n",
       "        text-align: right;\n",
       "    }\n",
       "\n",
       "    .dataframe thead th {\n",
       "        text-align: left;\n",
       "    }\n",
       "\n",
       "    .dataframe tbody tr th {\n",
       "        vertical-align: top;\n",
       "    }\n",
       "</style>\n",
       "<table border=\"1\" class=\"dataframe\">\n",
       "  <thead>\n",
       "    <tr style=\"text-align: right;\">\n",
       "      <th></th>\n",
       "      <th>P.Decile</th>\n",
       "      <th>Events</th>\n",
       "      <th>Number</th>\n",
       "      <th>EventRate</th>\n",
       "      <th>CumRate</th>\n",
       "    </tr>\n",
       "  </thead>\n",
       "  <tbody>\n",
       "    <tr>\n",
       "      <th>9</th>\n",
       "      <td>(0.38, 0.8]</td>\n",
       "      <td>23</td>\n",
       "      <td>41</td>\n",
       "      <td>0.315068</td>\n",
       "      <td>0.315068</td>\n",
       "    </tr>\n",
       "    <tr>\n",
       "      <th>8</th>\n",
       "      <td>(0.26, 0.38]</td>\n",
       "      <td>14</td>\n",
       "      <td>45</td>\n",
       "      <td>0.191781</td>\n",
       "      <td>0.506849</td>\n",
       "    </tr>\n",
       "    <tr>\n",
       "      <th>7</th>\n",
       "      <td>(0.19, 0.26]</td>\n",
       "      <td>7</td>\n",
       "      <td>44</td>\n",
       "      <td>0.095890</td>\n",
       "      <td>0.602740</td>\n",
       "    </tr>\n",
       "    <tr>\n",
       "      <th>6</th>\n",
       "      <td>(0.15, 0.19]</td>\n",
       "      <td>7</td>\n",
       "      <td>46</td>\n",
       "      <td>0.095890</td>\n",
       "      <td>0.698630</td>\n",
       "    </tr>\n",
       "    <tr>\n",
       "      <th>5</th>\n",
       "      <td>(0.11, 0.15]</td>\n",
       "      <td>9</td>\n",
       "      <td>43</td>\n",
       "      <td>0.123288</td>\n",
       "      <td>0.821918</td>\n",
       "    </tr>\n",
       "    <tr>\n",
       "      <th>4</th>\n",
       "      <td>(0.09, 0.11]</td>\n",
       "      <td>2</td>\n",
       "      <td>32</td>\n",
       "      <td>0.027397</td>\n",
       "      <td>0.849315</td>\n",
       "    </tr>\n",
       "    <tr>\n",
       "      <th>3</th>\n",
       "      <td>(0.07, 0.09]</td>\n",
       "      <td>1</td>\n",
       "      <td>44</td>\n",
       "      <td>0.013699</td>\n",
       "      <td>0.863014</td>\n",
       "    </tr>\n",
       "    <tr>\n",
       "      <th>2</th>\n",
       "      <td>(0.05, 0.07]</td>\n",
       "      <td>5</td>\n",
       "      <td>44</td>\n",
       "      <td>0.068493</td>\n",
       "      <td>0.931507</td>\n",
       "    </tr>\n",
       "    <tr>\n",
       "      <th>1</th>\n",
       "      <td>(0.03, 0.05]</td>\n",
       "      <td>2</td>\n",
       "      <td>43</td>\n",
       "      <td>0.027397</td>\n",
       "      <td>0.958904</td>\n",
       "    </tr>\n",
       "    <tr>\n",
       "      <th>0</th>\n",
       "      <td>(-0.001, 0.03]</td>\n",
       "      <td>3</td>\n",
       "      <td>59</td>\n",
       "      <td>0.041096</td>\n",
       "      <td>1.000000</td>\n",
       "    </tr>\n",
       "  </tbody>\n",
       "</table>\n",
       "</div>"
      ],
      "text/plain": [
       "         P.Decile  Events  Number  EventRate   CumRate\n",
       "9     (0.38, 0.8]      23      41   0.315068  0.315068\n",
       "8    (0.26, 0.38]      14      45   0.191781  0.506849\n",
       "7    (0.19, 0.26]       7      44   0.095890  0.602740\n",
       "6    (0.15, 0.19]       7      46   0.095890  0.698630\n",
       "5    (0.11, 0.15]       9      43   0.123288  0.821918\n",
       "4    (0.09, 0.11]       2      32   0.027397  0.849315\n",
       "3    (0.07, 0.09]       1      44   0.013699  0.863014\n",
       "2    (0.05, 0.07]       5      44   0.068493  0.931507\n",
       "1    (0.03, 0.05]       2      43   0.027397  0.958904\n",
       "0  (-0.001, 0.03]       3      59   0.041096  1.000000"
      ]
     },
     "execution_count": 87,
     "metadata": {},
     "output_type": "execute_result"
    }
   ],
   "source": [
    "gains"
   ]
  },
  {
   "cell_type": "code",
   "execution_count": null,
   "metadata": {
    "collapsed": true
   },
   "outputs": [],
   "source": []
  }
 ],
 "metadata": {
  "kernelspec": {
   "display_name": "Python 3",
   "language": "python",
   "name": "python3"
  },
  "language_info": {
   "codemirror_mode": {
    "name": "ipython",
    "version": 3
   },
   "file_extension": ".py",
   "mimetype": "text/x-python",
   "name": "python",
   "nbconvert_exporter": "python",
   "pygments_lexer": "ipython3",
   "version": "3.6.3"
  }
 },
 "nbformat": 4,
 "nbformat_minor": 2
}
