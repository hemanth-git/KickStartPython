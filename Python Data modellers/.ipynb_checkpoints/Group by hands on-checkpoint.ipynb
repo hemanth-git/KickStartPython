{
 "cells": [
  {
   "cell_type": "code",
   "execution_count": 2,
   "metadata": {},
   "outputs": [],
   "source": [
    "import pandas as pd"
   ]
  },
  {
   "cell_type": "code",
   "execution_count": 3,
   "metadata": {},
   "outputs": [],
   "source": [
    "store=pd.read_csv(\"C:\\\\Users\\\\hemanth\\\\Downloads\\\\JigSaw\\\\Day 12\\\\PythonForModellers-master\\\\\n",
    "PythonForModellers-master\\\\Data\\\\store.csv\",encoding=\"latin1\")"
   ]
  },
  {
   "cell_type": "code",
   "execution_count": 4,
   "metadata": {},
   "outputs": [],
   "source": [
    "import numpy as np"
   ]
  },
  {
   "cell_type": "code",
   "execution_count": 16,
   "metadata": {},
   "outputs": [
    {
     "data": {
      "text/plain": [
       "Row ID             int64\n",
       "Order ID          object\n",
       "Order Date        object\n",
       "Ship Date         object\n",
       "Ship Mode         object\n",
       "Customer ID       object\n",
       "Customer Name     object\n",
       "Segment           object\n",
       "Country           object\n",
       "City              object\n",
       "State             object\n",
       "Postal Code        int64\n",
       "Region            object\n",
       "Product ID        object\n",
       "Category          object\n",
       "Sub-Category      object\n",
       "Product Name      object\n",
       "Sales            float64\n",
       "Quantity           int64\n",
       "Discount         float64\n",
       "Profit           float64\n",
       "Qty-Cat           object\n",
       "dtype: object"
      ]
     },
     "execution_count": 16,
     "metadata": {},
     "output_type": "execute_result"
    }
   ],
   "source": [
    "store\n",
    "store.dtypes"
   ]
  },
  {
   "cell_type": "code",
   "execution_count": 7,
   "metadata": {},
   "outputs": [
    {
     "data": {
      "text/html": [
       "<div>\n",
       "<style scoped>\n",
       "    .dataframe tbody tr th:only-of-type {\n",
       "        vertical-align: middle;\n",
       "    }\n",
       "\n",
       "    .dataframe tbody tr th {\n",
       "        vertical-align: top;\n",
       "    }\n",
       "\n",
       "    .dataframe thead th {\n",
       "        text-align: right;\n",
       "    }\n",
       "</style>\n",
       "<table border=\"1\" class=\"dataframe\">\n",
       "  <thead>\n",
       "    <tr style=\"text-align: right;\">\n",
       "      <th></th>\n",
       "      <th></th>\n",
       "      <th>Sales</th>\n",
       "    </tr>\n",
       "    <tr>\n",
       "      <th>Region</th>\n",
       "      <th>Segment</th>\n",
       "      <th></th>\n",
       "    </tr>\n",
       "  </thead>\n",
       "  <tbody>\n",
       "    <tr>\n",
       "      <th rowspan=\"3\" valign=\"top\">Central</th>\n",
       "      <th>Consumer</th>\n",
       "      <td>207.946728</td>\n",
       "    </tr>\n",
       "    <tr>\n",
       "      <th>Corporate</th>\n",
       "      <td>234.763466</td>\n",
       "    </tr>\n",
       "    <tr>\n",
       "      <th>Home Office</th>\n",
       "      <td>208.248046</td>\n",
       "    </tr>\n",
       "    <tr>\n",
       "      <th rowspan=\"3\" valign=\"top\">East</th>\n",
       "      <th>Consumer</th>\n",
       "      <td>238.875539</td>\n",
       "    </tr>\n",
       "    <tr>\n",
       "      <th>Corporate</th>\n",
       "      <td>228.516929</td>\n",
       "    </tr>\n",
       "    <tr>\n",
       "      <th>Home Office</th>\n",
       "      <td>253.911805</td>\n",
       "    </tr>\n",
       "    <tr>\n",
       "      <th rowspan=\"3\" valign=\"top\">South</th>\n",
       "      <th>Consumer</th>\n",
       "      <td>233.390180</td>\n",
       "    </tr>\n",
       "    <tr>\n",
       "      <th>Corporate</th>\n",
       "      <td>238.992025</td>\n",
       "    </tr>\n",
       "    <tr>\n",
       "      <th>Home Office</th>\n",
       "      <td>272.996329</td>\n",
       "    </tr>\n",
       "    <tr>\n",
       "      <th rowspan=\"3\" valign=\"top\">West</th>\n",
       "      <th>Consumer</th>\n",
       "      <td>217.033955</td>\n",
       "    </tr>\n",
       "    <tr>\n",
       "      <th>Corporate</th>\n",
       "      <td>235.265911</td>\n",
       "    </tr>\n",
       "    <tr>\n",
       "      <th>Home Office</th>\n",
       "      <td>239.442692</td>\n",
       "    </tr>\n",
       "  </tbody>\n",
       "</table>\n",
       "</div>"
      ],
      "text/plain": [
       "                          Sales\n",
       "Region  Segment                \n",
       "Central Consumer     207.946728\n",
       "        Corporate    234.763466\n",
       "        Home Office  208.248046\n",
       "East    Consumer     238.875539\n",
       "        Corporate    228.516929\n",
       "        Home Office  253.911805\n",
       "South   Consumer     233.390180\n",
       "        Corporate    238.992025\n",
       "        Home Office  272.996329\n",
       "West    Consumer     217.033955\n",
       "        Corporate    235.265911\n",
       "        Home Office  239.442692"
      ]
     },
     "execution_count": 7,
     "metadata": {},
     "output_type": "execute_result"
    }
   ],
   "source": [
    "store.groupby(['Region','Segment']).agg({'Sales':np.mean,''})"
   ]
  },
  {
   "cell_type": "code",
   "execution_count": 12,
   "metadata": {},
   "outputs": [],
   "source": [
    "# using map and apply\n",
    "# if qunatity is more than 5 alot else veryless\n",
    "def get_categories(x):\n",
    "    if x>5:\n",
    "        return \"Alot\"\n",
    "    else:\n",
    "        return \"Very-less\"\n"
   ]
  },
  {
   "cell_type": "code",
   "execution_count": 15,
   "metadata": {},
   "outputs": [],
   "source": [
    "store['Qty-Cat']=store['Quantity'].map(get_categories)"
   ]
  },
  {
   "cell_type": "code",
   "execution_count": 21,
   "metadata": {},
   "outputs": [],
   "source": [
    "# using apply function \n",
    "store['Sales'].apply(np.sum,axis=0)\n",
    "# axis =0 is row\n",
    "# axis =1 is col"
   ]
  },
  {
   "cell_type": "code",
   "execution_count": 22,
   "metadata": {},
   "outputs": [],
   "source": [
    "comey=pd.read_csv(\"C:\\\\Users\\\\hemanth\\\\Downloads\\\\JigSaw\\\\Day 12\\\\PythonForModellers-master\\\\\n",
    "PythonForModellers-master\\\\Data\\\\comey.csv\",encoding=\"latin1\")"
   ]
  },
  {
   "cell_type": "code",
   "execution_count": 23,
   "metadata": {},
   "outputs": [
    {
     "data": {
      "text/plain": [
       "Senator              object\n",
       "Party Affiliation    object\n",
       "Full Question        object\n",
       "Comey                object\n",
       "Comey Response       object\n",
       "dtype: object"
      ]
     },
     "execution_count": 23,
     "metadata": {},
     "output_type": "execute_result"
    }
   ],
   "source": [
    "comey.dtypes"
   ]
  },
  {
   "cell_type": "code",
   "execution_count": 27,
   "metadata": {},
   "outputs": [],
   "source": [
    "\n",
    "def callen(x):\n",
    "    return len(x.split(\" \"))\n",
    "crlen=comey['Comey Response'].map(callen)\n"
   ]
  },
  {
   "cell_type": "code",
   "execution_count": 33,
   "metadata": {},
   "outputs": [
    {
     "data": {
      "text/plain": [
       "Senator              object\n",
       "Party Affiliation    object\n",
       "Full Question        object\n",
       "Comey                object\n",
       "Comey Response       object\n",
       "CRlen                 int64\n",
       "dtype: object"
      ]
     },
     "execution_count": 33,
     "metadata": {},
     "output_type": "execute_result"
    }
   ],
   "source": [
    "comey['CRlen']=crlen\n",
    "comey.dtypes"
   ]
  },
  {
   "cell_type": "code",
   "execution_count": 32,
   "metadata": {},
   "outputs": [
    {
     "data": {
      "text/html": [
       "<div>\n",
       "<style scoped>\n",
       "    .dataframe tbody tr th:only-of-type {\n",
       "        vertical-align: middle;\n",
       "    }\n",
       "\n",
       "    .dataframe tbody tr th {\n",
       "        vertical-align: top;\n",
       "    }\n",
       "\n",
       "    .dataframe thead th {\n",
       "        text-align: right;\n",
       "    }\n",
       "</style>\n",
       "<table border=\"1\" class=\"dataframe\">\n",
       "  <thead>\n",
       "    <tr style=\"text-align: right;\">\n",
       "      <th></th>\n",
       "      <th></th>\n",
       "      <th>CRlen</th>\n",
       "    </tr>\n",
       "    <tr>\n",
       "      <th>Party Affiliation</th>\n",
       "      <th>Senator</th>\n",
       "      <th></th>\n",
       "    </tr>\n",
       "  </thead>\n",
       "  <tbody>\n",
       "    <tr>\n",
       "      <th rowspan=\"7\" valign=\"top\">Democrat</th>\n",
       "      <th>FEINSTEIN</th>\n",
       "      <td>1050</td>\n",
       "    </tr>\n",
       "    <tr>\n",
       "      <th>HARRIS</th>\n",
       "      <td>459</td>\n",
       "    </tr>\n",
       "    <tr>\n",
       "      <th>HEINRICH</th>\n",
       "      <td>601</td>\n",
       "    </tr>\n",
       "    <tr>\n",
       "      <th>MANCHIN</th>\n",
       "      <td>652</td>\n",
       "    </tr>\n",
       "    <tr>\n",
       "      <th>REED</th>\n",
       "      <td>549</td>\n",
       "    </tr>\n",
       "    <tr>\n",
       "      <th>WARNER</th>\n",
       "      <td>1037</td>\n",
       "    </tr>\n",
       "    <tr>\n",
       "      <th>WYDEN</th>\n",
       "      <td>416</td>\n",
       "    </tr>\n",
       "    <tr>\n",
       "      <th>Independent</th>\n",
       "      <th>KING</th>\n",
       "      <td>467</td>\n",
       "    </tr>\n",
       "    <tr>\n",
       "      <th rowspan=\"9\" valign=\"top\">Republican</th>\n",
       "      <th>BLUNT</th>\n",
       "      <td>427</td>\n",
       "    </tr>\n",
       "    <tr>\n",
       "      <th>BURR</th>\n",
       "      <td>807</td>\n",
       "    </tr>\n",
       "    <tr>\n",
       "      <th>COLLINS</th>\n",
       "      <td>626</td>\n",
       "    </tr>\n",
       "    <tr>\n",
       "      <th>CORNYN</th>\n",
       "      <td>378</td>\n",
       "    </tr>\n",
       "    <tr>\n",
       "      <th>COTTON</th>\n",
       "      <td>456</td>\n",
       "    </tr>\n",
       "    <tr>\n",
       "      <th>LANKFORD</th>\n",
       "      <td>562</td>\n",
       "    </tr>\n",
       "    <tr>\n",
       "      <th>McCAIN</th>\n",
       "      <td>393</td>\n",
       "    </tr>\n",
       "    <tr>\n",
       "      <th>RISCH</th>\n",
       "      <td>236</td>\n",
       "    </tr>\n",
       "    <tr>\n",
       "      <th>RUBIO</th>\n",
       "      <td>462</td>\n",
       "    </tr>\n",
       "  </tbody>\n",
       "</table>\n",
       "</div>"
      ],
      "text/plain": [
       "                             CRlen\n",
       "Party Affiliation Senator         \n",
       "Democrat          FEINSTEIN   1050\n",
       "                  HARRIS       459\n",
       "                  HEINRICH     601\n",
       "                  MANCHIN      652\n",
       "                  REED         549\n",
       "                  WARNER      1037\n",
       "                  WYDEN        416\n",
       "Independent       KING         467\n",
       "Republican        BLUNT        427\n",
       "                  BURR         807\n",
       "                  COLLINS      626\n",
       "                  CORNYN       378\n",
       "                  COTTON       456\n",
       "                  LANKFORD     562\n",
       "                  McCAIN       393\n",
       "                  RISCH        236\n",
       "                  RUBIO        462"
      ]
     },
     "execution_count": 32,
     "metadata": {},
     "output_type": "execute_result"
    }
   ],
   "source": [
    "comey.groupby(['Party Affiliation','Senator']).agg({'CRlen':np.sum,})"
   ]
  },
  {
   "cell_type": "code",
   "execution_count": 36,
   "metadata": {},
   "outputs": [
    {
     "data": {
      "text/plain": [
       "Row ID                    int64\n",
       "Order ID                 object\n",
       "Order Date       datetime64[ns]\n",
       "Ship Date        datetime64[ns]\n",
       "Ship Mode                object\n",
       "Customer ID              object\n",
       "Customer Name            object\n",
       "Segment                  object\n",
       "Country                  object\n",
       "City                     object\n",
       "State                    object\n",
       "Postal Code               int64\n",
       "Region                   object\n",
       "Product ID               object\n",
       "Category                 object\n",
       "Sub-Category             object\n",
       "Product Name             object\n",
       "Sales                   float64\n",
       "Quantity                  int64\n",
       "Discount                float64\n",
       "Profit                  float64\n",
       "Qty-Cat                  object\n",
       "dtype: object"
      ]
     },
     "execution_count": 36,
     "metadata": {},
     "output_type": "execute_result"
    }
   ],
   "source": [
    "# using to_datetime()\n",
    "\n",
    "store.dtypes\n",
    "store['Order Date']=pd.to_datetime(store['Order Date'])\n",
    "store['Ship Date']=pd.to_datetime(store['Ship Date'])\n",
    "store.dtypes"
   ]
  },
  {
   "cell_type": "code",
   "execution_count": 38,
   "metadata": {},
   "outputs": [
    {
     "data": {
      "text/plain": [
       "0       12\n",
       "1       12\n",
       "2       17\n",
       "3       18\n",
       "4       18\n",
       "5       14\n",
       "6       14\n",
       "7       14\n",
       "8       14\n",
       "9       14\n",
       "10      14\n",
       "11      14\n",
       "12      21\n",
       "13      11\n",
       "14      26\n",
       "15      26\n",
       "16      18\n",
       "17      15\n",
       "18       1\n",
       "19       1\n",
       "20       1\n",
       "21      14\n",
       "22      14\n",
       "23      19\n",
       "24      30\n",
       "25      20\n",
       "26      20\n",
       "27      21\n",
       "28      21\n",
       "29      21\n",
       "        ..\n",
       "9964    11\n",
       "9965    11\n",
       "9966    11\n",
       "9967    18\n",
       "9968    18\n",
       "9969    18\n",
       "9970     2\n",
       "9971     2\n",
       "9972    18\n",
       "9973    11\n",
       "9974    11\n",
       "9975    11\n",
       "9976    11\n",
       "9977    11\n",
       "9978    11\n",
       "9979    11\n",
       "9980     9\n",
       "9981     7\n",
       "9982    29\n",
       "9983    29\n",
       "9984    23\n",
       "9985    23\n",
       "9986     4\n",
       "9987    22\n",
       "9988    22\n",
       "9989    24\n",
       "9990     4\n",
       "9991     4\n",
       "9992     4\n",
       "9993    10\n",
       "Name: Ship Date, Length: 9994, dtype: int64"
      ]
     },
     "execution_count": 38,
     "metadata": {},
     "output_type": "execute_result"
    }
   ],
   "source": [
    "# extracting weekdays years months and days etc..\n",
    "#col.dt.month\n",
    "store['Ship Date'].dt.weekday\n",
    "store['Ship Date'].dt.month\n",
    "store['Ship Date'].dt.year\n",
    "store['Ship Date'].dt.day"
   ]
  },
  {
   "cell_type": "code",
   "execution_count": 39,
   "metadata": {},
   "outputs": [
    {
     "data": {
      "text/plain": [
       "0      3 days\n",
       "1      3 days\n",
       "2      4 days\n",
       "3      7 days\n",
       "4      7 days\n",
       "5      5 days\n",
       "6      5 days\n",
       "7      5 days\n",
       "8      5 days\n",
       "9      5 days\n",
       "10     5 days\n",
       "11     5 days\n",
       "12     5 days\n",
       "13     5 days\n",
       "14     4 days\n",
       "15     4 days\n",
       "16     7 days\n",
       "17     2 days\n",
       "18     5 days\n",
       "19     5 days\n",
       "20     5 days\n",
       "21     4 days\n",
       "22     4 days\n",
       "23     2 days\n",
       "24     5 days\n",
       "25     4 days\n",
       "26     4 days\n",
       "27     4 days\n",
       "28     4 days\n",
       "29     4 days\n",
       "        ...  \n",
       "9964   5 days\n",
       "9965   5 days\n",
       "9966   5 days\n",
       "9967   6 days\n",
       "9968   6 days\n",
       "9969   6 days\n",
       "9970   4 days\n",
       "9971   4 days\n",
       "9972   6 days\n",
       "9973   4 days\n",
       "9974   4 days\n",
       "9975   4 days\n",
       "9976   4 days\n",
       "9977   4 days\n",
       "9978   4 days\n",
       "9979   4 days\n",
       "9980   3 days\n",
       "9981   3 days\n",
       "9982   6 days\n",
       "9983   6 days\n",
       "9984   6 days\n",
       "9985   6 days\n",
       "9986   4 days\n",
       "9987   4 days\n",
       "9988   4 days\n",
       "9989   2 days\n",
       "9990   5 days\n",
       "9991   5 days\n",
       "9992   5 days\n",
       "9993   5 days\n",
       "Length: 9994, dtype: timedelta64[ns]"
      ]
     },
     "execution_count": 39,
     "metadata": {},
     "output_type": "execute_result"
    }
   ],
   "source": [
    "# duration of processing\n",
    "store['Ship Date']-store['Order Date']"
   ]
  },
  {
   "cell_type": "code",
   "execution_count": null,
   "metadata": {},
   "outputs": [],
   "source": []
  }
 ],
 "metadata": {
  "kernelspec": {
   "display_name": "Python 3",
   "language": "python",
   "name": "python3"
  },
  "language_info": {
   "codemirror_mode": {
    "name": "ipython",
    "version": 3
   },
   "file_extension": ".py",
   "mimetype": "text/x-python",
   "name": "python",
   "nbconvert_exporter": "python",
   "pygments_lexer": "ipython3",
   "version": "3.6.5"
  }
 },
 "nbformat": 4,
 "nbformat_minor": 2
}
