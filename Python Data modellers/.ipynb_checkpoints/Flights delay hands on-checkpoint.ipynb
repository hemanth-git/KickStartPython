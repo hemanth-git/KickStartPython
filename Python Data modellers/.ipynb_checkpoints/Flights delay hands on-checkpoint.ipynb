{
 "cells": [
  {
   "cell_type": "code",
   "execution_count": 1,
   "metadata": {},
   "outputs": [],
   "source": [
    "import pandas as pd\n",
    "import numpy as np"
   ]
  },
  {
   "cell_type": "code",
   "execution_count": 3,
   "metadata": {},
   "outputs": [],
   "source": [
    "fd=pd.read_csv(\"C:\\\\Users\\\\hemanth\\\\Downloads\\\\JigSaw\\\\Day 12\\\\PythonForModellers-master\\\\\n",
    "PythonForModellers-master\\\\Data\\\\FlightDelays.csv\")"
   ]
  },
  {
   "cell_type": "code",
   "execution_count": 24,
   "metadata": {},
   "outputs": [
    {
     "data": {
      "text/plain": [
       "schedtime                int64\n",
       "carrier                 object\n",
       "deptime                  int64\n",
       "dest                    object\n",
       "distance                 int64\n",
       "date            datetime64[ns]\n",
       "flightnumber             int64\n",
       "origin                  object\n",
       "weather                  int64\n",
       "tailnu                  object\n",
       "delay                   object\n",
       "weekday                  int64\n",
       "weekend                 object\n",
       "dtype: object"
      ]
     },
     "execution_count": 24,
     "metadata": {},
     "output_type": "execute_result"
    }
   ],
   "source": [
    "fd.dtypes"
   ]
  },
  {
   "cell_type": "code",
   "execution_count": 29,
   "metadata": {},
   "outputs": [
    {
     "data": {
      "text/html": [
       "<div>\n",
       "<style scoped>\n",
       "    .dataframe tbody tr th:only-of-type {\n",
       "        vertical-align: middle;\n",
       "    }\n",
       "\n",
       "    .dataframe tbody tr th {\n",
       "        vertical-align: top;\n",
       "    }\n",
       "\n",
       "    .dataframe thead th {\n",
       "        text-align: right;\n",
       "    }\n",
       "</style>\n",
       "<table border=\"1\" class=\"dataframe\">\n",
       "  <thead>\n",
       "    <tr style=\"text-align: right;\">\n",
       "      <th></th>\n",
       "      <th>schedtime</th>\n",
       "      <th>carrier</th>\n",
       "      <th>deptime</th>\n",
       "      <th>dest</th>\n",
       "      <th>distance</th>\n",
       "      <th>date</th>\n",
       "      <th>flightnumber</th>\n",
       "      <th>origin</th>\n",
       "      <th>weather</th>\n",
       "      <th>tailnu</th>\n",
       "      <th>delay</th>\n",
       "      <th>weekday</th>\n",
       "      <th>weekend</th>\n",
       "      <th>dayNum</th>\n",
       "      <th>DayofWeek</th>\n",
       "    </tr>\n",
       "  </thead>\n",
       "  <tbody>\n",
       "    <tr>\n",
       "      <th>0</th>\n",
       "      <td>1455</td>\n",
       "      <td>OH</td>\n",
       "      <td>1455</td>\n",
       "      <td>JFK</td>\n",
       "      <td>184</td>\n",
       "      <td>2004-01-01</td>\n",
       "      <td>5935</td>\n",
       "      <td>BWI</td>\n",
       "      <td>0</td>\n",
       "      <td>N940CA</td>\n",
       "      <td>ontime</td>\n",
       "      <td>3</td>\n",
       "      <td>weekday</td>\n",
       "      <td>3</td>\n",
       "      <td>weekday</td>\n",
       "    </tr>\n",
       "    <tr>\n",
       "      <th>1</th>\n",
       "      <td>1640</td>\n",
       "      <td>DH</td>\n",
       "      <td>1640</td>\n",
       "      <td>JFK</td>\n",
       "      <td>213</td>\n",
       "      <td>2004-01-01</td>\n",
       "      <td>6155</td>\n",
       "      <td>DCA</td>\n",
       "      <td>0</td>\n",
       "      <td>N405FJ</td>\n",
       "      <td>ontime</td>\n",
       "      <td>3</td>\n",
       "      <td>weekday</td>\n",
       "      <td>3</td>\n",
       "      <td>weekday</td>\n",
       "    </tr>\n",
       "    <tr>\n",
       "      <th>2</th>\n",
       "      <td>1245</td>\n",
       "      <td>DH</td>\n",
       "      <td>1245</td>\n",
       "      <td>LGA</td>\n",
       "      <td>229</td>\n",
       "      <td>2004-01-01</td>\n",
       "      <td>7208</td>\n",
       "      <td>IAD</td>\n",
       "      <td>0</td>\n",
       "      <td>N695BR</td>\n",
       "      <td>ontime</td>\n",
       "      <td>3</td>\n",
       "      <td>weekday</td>\n",
       "      <td>3</td>\n",
       "      <td>weekday</td>\n",
       "    </tr>\n",
       "    <tr>\n",
       "      <th>3</th>\n",
       "      <td>1715</td>\n",
       "      <td>DH</td>\n",
       "      <td>1709</td>\n",
       "      <td>LGA</td>\n",
       "      <td>229</td>\n",
       "      <td>2004-01-01</td>\n",
       "      <td>7215</td>\n",
       "      <td>IAD</td>\n",
       "      <td>0</td>\n",
       "      <td>N662BR</td>\n",
       "      <td>ontime</td>\n",
       "      <td>3</td>\n",
       "      <td>weekday</td>\n",
       "      <td>3</td>\n",
       "      <td>weekday</td>\n",
       "    </tr>\n",
       "    <tr>\n",
       "      <th>4</th>\n",
       "      <td>1039</td>\n",
       "      <td>DH</td>\n",
       "      <td>1035</td>\n",
       "      <td>LGA</td>\n",
       "      <td>229</td>\n",
       "      <td>2004-01-01</td>\n",
       "      <td>7792</td>\n",
       "      <td>IAD</td>\n",
       "      <td>0</td>\n",
       "      <td>N698BR</td>\n",
       "      <td>ontime</td>\n",
       "      <td>3</td>\n",
       "      <td>weekday</td>\n",
       "      <td>3</td>\n",
       "      <td>weekday</td>\n",
       "    </tr>\n",
       "  </tbody>\n",
       "</table>\n",
       "</div>"
      ],
      "text/plain": [
       "   schedtime carrier  deptime dest  distance       date  flightnumber origin  \\\n",
       "0       1455      OH     1455  JFK       184 2004-01-01          5935    BWI   \n",
       "1       1640      DH     1640  JFK       213 2004-01-01          6155    DCA   \n",
       "2       1245      DH     1245  LGA       229 2004-01-01          7208    IAD   \n",
       "3       1715      DH     1709  LGA       229 2004-01-01          7215    IAD   \n",
       "4       1039      DH     1035  LGA       229 2004-01-01          7792    IAD   \n",
       "\n",
       "   weather  tailnu   delay  weekday  weekend  dayNum DayofWeek  \n",
       "0        0  N940CA  ontime        3  weekday       3   weekday  \n",
       "1        0  N405FJ  ontime        3  weekday       3   weekday  \n",
       "2        0  N695BR  ontime        3  weekday       3   weekday  \n",
       "3        0  N662BR  ontime        3  weekday       3   weekday  \n",
       "4        0  N698BR  ontime        3  weekday       3   weekday  "
      ]
     },
     "execution_count": 29,
     "metadata": {},
     "output_type": "execute_result"
    }
   ],
   "source": [
    "fd.head()"
   ]
  },
  {
   "cell_type": "code",
   "execution_count": 6,
   "metadata": {},
   "outputs": [],
   "source": [
    "# to find out no of flights delayed for all weekdays\n",
    "fd['date']=pd.to_datetime(fd['date'])"
   ]
  },
  {
   "cell_type": "code",
   "execution_count": 28,
   "metadata": {},
   "outputs": [],
   "source": [
    "fd['dayNum']=fd['date'].dt.weekday\n",
    "def decideweek(x):\n",
    "    if x < 5:\n",
    "        return \"weekday\"\n",
    "    else:\n",
    "        return \"weekend\"\n",
    "fd['DayofWeek']= fd['dayNum'].map(decideweek)\n"
   ]
  },
  {
   "cell_type": "code",
   "execution_count": 55,
   "metadata": {},
   "outputs": [
    {
     "data": {
      "text/html": [
       "<div>\n",
       "<style scoped>\n",
       "    .dataframe tbody tr th:only-of-type {\n",
       "        vertical-align: middle;\n",
       "    }\n",
       "\n",
       "    .dataframe tbody tr th {\n",
       "        vertical-align: top;\n",
       "    }\n",
       "\n",
       "    .dataframe thead th {\n",
       "        text-align: right;\n",
       "    }\n",
       "</style>\n",
       "<table border=\"1\" class=\"dataframe\">\n",
       "  <thead>\n",
       "    <tr style=\"text-align: right;\">\n",
       "      <th></th>\n",
       "      <th></th>\n",
       "      <th>origin</th>\n",
       "    </tr>\n",
       "    <tr>\n",
       "      <th>delay</th>\n",
       "      <th>DayofWeek</th>\n",
       "      <th></th>\n",
       "    </tr>\n",
       "  </thead>\n",
       "  <tbody>\n",
       "    <tr>\n",
       "      <th rowspan=\"2\" valign=\"top\">delayed</th>\n",
       "      <th>weekday</th>\n",
       "      <td>336</td>\n",
       "    </tr>\n",
       "    <tr>\n",
       "      <th>weekend</th>\n",
       "      <td>92</td>\n",
       "    </tr>\n",
       "    <tr>\n",
       "      <th rowspan=\"2\" valign=\"top\">ontime</th>\n",
       "      <th>weekday</th>\n",
       "      <td>1362</td>\n",
       "    </tr>\n",
       "    <tr>\n",
       "      <th>weekend</th>\n",
       "      <td>411</td>\n",
       "    </tr>\n",
       "  </tbody>\n",
       "</table>\n",
       "</div>"
      ],
      "text/plain": [
       "                   origin\n",
       "delay   DayofWeek        \n",
       "delayed weekday       336\n",
       "        weekend        92\n",
       "ontime  weekday      1362\n",
       "        weekend       411"
      ]
     },
     "execution_count": 55,
     "metadata": {},
     "output_type": "execute_result"
    }
   ],
   "source": [
    "#1. Find out the number of delayed flights for all weekdays\n",
    "#3. Find out how many flights were on time on Week days and Weekends (Consider Saturday and Sunday as weekends)\n",
    "fd.groupby(['delay','DayofWeek']).agg({'origin':np.size})\n",
    "# using .index"
   ]
  },
  {
   "cell_type": "code",
   "execution_count": 31,
   "metadata": {},
   "outputs": [],
   "source": []
  },
  {
   "cell_type": "code",
   "execution_count": 36,
   "metadata": {},
   "outputs": [
    {
     "data": {
      "text/plain": [
       "mean      211.71867\n",
       "sum     82782.00000\n",
       "size      391.00000\n",
       "Name: distance, dtype: float64"
      ]
     },
     "execution_count": 36,
     "metadata": {},
     "output_type": "execute_result"
    }
   ],
   "source": [
    "#friday=fd.query(\"dayNum == 4\")\n",
    "#friday['distance'].agg(['mean','sum','size'])\n",
    "# Find the average distance, total distance and count for all delayed flights on Friday.\n",
    "fd.query(\"dayNum == 4\")['distance'].agg(['mean','sum','size'])"
   ]
  },
  {
   "cell_type": "code",
   "execution_count": 38,
   "metadata": {},
   "outputs": [
    {
     "data": {
      "text/plain": [
       "dest\n",
       "EWR    507\n",
       "JFK    272\n",
       "LGA    919\n",
       "dtype: int64"
      ]
     },
     "execution_count": 38,
     "metadata": {},
     "output_type": "execute_result"
    }
   ],
   "source": [
    "# how many flights were ontime \n",
    "\n",
    "fd.query(\"dayNum < 5\").groupby('dest').agg('size')"
   ]
  },
  {
   "cell_type": "code",
   "execution_count": 39,
   "metadata": {},
   "outputs": [
    {
     "data": {
      "text/plain": [
       "450"
      ]
     },
     "execution_count": 39,
     "metadata": {},
     "output_type": "execute_result"
    }
   ],
   "source": [
    "# number of times weather was bad\n",
    "\n",
    "fd.query(\"dayNum < 5 and weather == 1\").agg('size')"
   ]
  },
  {
   "cell_type": "code",
   "execution_count": null,
   "metadata": {},
   "outputs": [],
   "source": []
  }
 ],
 "metadata": {
  "kernelspec": {
   "display_name": "Python 3",
   "language": "python",
   "name": "python3"
  },
  "language_info": {
   "codemirror_mode": {
    "name": "ipython",
    "version": 3
   },
   "file_extension": ".py",
   "mimetype": "text/x-python",
   "name": "python",
   "nbconvert_exporter": "python",
   "pygments_lexer": "ipython3",
   "version": "3.6.5"
  }
 },
 "nbformat": 4,
 "nbformat_minor": 2
}
