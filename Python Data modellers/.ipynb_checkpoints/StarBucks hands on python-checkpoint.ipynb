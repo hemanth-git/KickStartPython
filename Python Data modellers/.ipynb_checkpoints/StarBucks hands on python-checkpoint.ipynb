{
 "cells": [
  {
   "cell_type": "code",
   "execution_count": 1,
   "metadata": {},
   "outputs": [],
   "source": [
    "import pandas as pd"
   ]
  },
  {
   "cell_type": "code",
   "execution_count": 3,
   "metadata": {},
   "outputs": [],
   "source": [
    "sb=pd.read_csv(\"C:\\\\Users\\\\hemanth\\\\Downloads\\\\JigSaw\\\\Day 12\\\\PythonForModellers-master\\\\\n",
    "PythonForModellers-master\\\\Data\\\\starbucks_final.csv\")"
   ]
  },
  {
   "cell_type": "code",
   "execution_count": 4,
   "metadata": {},
   "outputs": [
    {
     "data": {
      "text/plain": [
       "Name         object\n",
       "Calories      int64\n",
       "Fat         float64\n",
       "Carb          int64\n",
       "Fiber         int64\n",
       "Protein       int64\n",
       "dtype: object"
      ]
     },
     "execution_count": 4,
     "metadata": {},
     "output_type": "execute_result"
    }
   ],
   "source": [
    "sb.dtypes"
   ]
  },
  {
   "cell_type": "code",
   "execution_count": 5,
   "metadata": {},
   "outputs": [],
   "source": [
    "# names of items on the menu that contain:\n",
    "# 140 calories\n",
    "# upto 40 protein\n",
    "# 10 fat\n",
    "# 40 carbs\n",
    "# 5 fibre"
   ]
  },
  {
   "cell_type": "code",
   "execution_count": 16,
   "metadata": {},
   "outputs": [
    {
     "data": {
      "text/plain": [
       "25     Everybody's Favorite - Bantam Bagel (2 Pack)\n",
       "27                        Frappuccino® Cookie Straw\n",
       "39                        Petite Vanilla Bean Scone\n",
       "111                        Organic Avocado (Spread)\n",
       "Name: Name, dtype: object"
      ]
     },
     "execution_count": 16,
     "metadata": {},
     "output_type": "execute_result"
    }
   ],
   "source": [
    "cr=sb.query(\"Calories<=140 and Protein <=40 and Fat<=10 and Carb<=40 and Fiber<=5\")\n",
    "cr['Name']"
   ]
  },
  {
   "cell_type": "code",
   "execution_count": 15,
   "metadata": {},
   "outputs": [
    {
     "data": {
      "text/html": [
       "<div>\n",
       "<style scoped>\n",
       "    .dataframe tbody tr th:only-of-type {\n",
       "        vertical-align: middle;\n",
       "    }\n",
       "\n",
       "    .dataframe tbody tr th {\n",
       "        vertical-align: top;\n",
       "    }\n",
       "\n",
       "    .dataframe thead th {\n",
       "        text-align: right;\n",
       "    }\n",
       "</style>\n",
       "<table border=\"1\" class=\"dataframe\">\n",
       "  <thead>\n",
       "    <tr style=\"text-align: right;\">\n",
       "      <th></th>\n",
       "      <th>Name</th>\n",
       "      <th>Calories</th>\n",
       "      <th>Fat</th>\n",
       "      <th>Carb</th>\n",
       "      <th>Fiber</th>\n",
       "      <th>Protein</th>\n",
       "    </tr>\n",
       "  </thead>\n",
       "  <tbody>\n",
       "    <tr>\n",
       "      <th>111</th>\n",
       "      <td>Organic Avocado (Spread)</td>\n",
       "      <td>90</td>\n",
       "      <td>8.0</td>\n",
       "      <td>5</td>\n",
       "      <td>4</td>\n",
       "      <td>1</td>\n",
       "    </tr>\n",
       "    <tr>\n",
       "      <th>25</th>\n",
       "      <td>Everybody's Favorite - Bantam Bagel (2 Pack)</td>\n",
       "      <td>100</td>\n",
       "      <td>3.5</td>\n",
       "      <td>14</td>\n",
       "      <td>0</td>\n",
       "      <td>3</td>\n",
       "    </tr>\n",
       "    <tr>\n",
       "      <th>27</th>\n",
       "      <td>Frappuccino® Cookie Straw</td>\n",
       "      <td>90</td>\n",
       "      <td>3.0</td>\n",
       "      <td>14</td>\n",
       "      <td>0</td>\n",
       "      <td>1</td>\n",
       "    </tr>\n",
       "    <tr>\n",
       "      <th>39</th>\n",
       "      <td>Petite Vanilla Bean Scone</td>\n",
       "      <td>120</td>\n",
       "      <td>4.5</td>\n",
       "      <td>18</td>\n",
       "      <td>0</td>\n",
       "      <td>2</td>\n",
       "    </tr>\n",
       "  </tbody>\n",
       "</table>\n",
       "</div>"
      ],
      "text/plain": [
       "                                             Name  Calories  Fat  Carb  Fiber  \\\n",
       "111                      Organic Avocado (Spread)        90  8.0     5      4   \n",
       "25   Everybody's Favorite - Bantam Bagel (2 Pack)       100  3.5    14      0   \n",
       "27                      Frappuccino® Cookie Straw        90  3.0    14      0   \n",
       "39                      Petite Vanilla Bean Scone       120  4.5    18      0   \n",
       "\n",
       "     Protein  \n",
       "111        1  \n",
       "25         3  \n",
       "27         1  \n",
       "39         2  "
      ]
     },
     "execution_count": 15,
     "metadata": {},
     "output_type": "execute_result"
    }
   ],
   "source": [
    "cr.sort_values(by=[\"Carb\",\"Protein\"], ascending=[True,False])"
   ]
  },
  {
   "cell_type": "code",
   "execution_count": null,
   "metadata": {},
   "outputs": [],
   "source": []
  }
 ],
 "metadata": {
  "kernelspec": {
   "display_name": "Python 3",
   "language": "python",
   "name": "python3"
  },
  "language_info": {
   "codemirror_mode": {
    "name": "ipython",
    "version": 3
   },
   "file_extension": ".py",
   "mimetype": "text/x-python",
   "name": "python",
   "nbconvert_exporter": "python",
   "pygments_lexer": "ipython3",
   "version": "3.6.5"
  }
 },
 "nbformat": 4,
 "nbformat_minor": 2
}
