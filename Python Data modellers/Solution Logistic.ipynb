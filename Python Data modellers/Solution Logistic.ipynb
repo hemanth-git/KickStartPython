{
 "cells": [
  {
   "cell_type": "code",
   "execution_count": 2,
   "metadata": {},
   "outputs": [],
   "source": [
    "import os\n",
    "import pandas as pd\n",
    "import numpy as np\n",
    "import matplotlib.pyplot as plt\n",
    "% matplotlib inline\n",
    "data_dir=\"E:\\Work\\Python\\PythonTrainings\\PythonMcKinsey\\Data\\demo_data\"\n",
    "os.chdir(data_dir)"
   ]
  },
  {
   "cell_type": "code",
   "execution_count": 3,
   "metadata": {},
   "outputs": [
    {
     "name": "stdout",
     "output_type": "stream",
     "text": [
      " Volume in drive E is New Volume\n",
      " Volume Serial Number is 226D-A0C6\n",
      "\n",
      " Directory of E:\\Work\\Python\\PythonTrainings\\PythonMcKinsey\\Data\\demo_data\n",
      "\n",
      "08-12-2017  10:22    <DIR>          .\n",
      "08-12-2017  10:22    <DIR>          ..\n",
      "18-07-2014  10:54           138,477 audit.csv\n",
      "24-07-2017  14:54           124,606 comey.csv\n",
      "21-02-2017  16:01        14,095,486 Credit.csv\n",
      "01-08-2017  13:09           248,238 credit_history.csv\n",
      "28-07-2015  15:16            66,074 dm.csv\n",
      "05-12-2017  20:48           125,583 FlightDelays.csv\n",
      "28-11-2017  19:54           566,780 hrdata.csv\n",
      "23-05-2017  22:19           823,071 membership.csv\n",
      "20-07-2017  14:34             5,203 starbucks_final.csv\n",
      "04-12-2017  10:52         2,287,829 Store.csv\n",
      "21-02-2017  16:01               488 Strings.csv\n",
      "              11 File(s)     18,481,835 bytes\n",
      "               2 Dir(s)  281,696,370,688 bytes free\n"
     ]
    }
   ],
   "source": [
    "!dir"
   ]
  },
  {
   "cell_type": "code",
   "execution_count": 17,
   "metadata": {
    "collapsed": true
   },
   "outputs": [],
   "source": [
    "data=pd.read_csv(\"membership.csv\",na_values=[\"\",\" \",\"Missing\"])"
   ]
  },
  {
   "cell_type": "code",
   "execution_count": 18,
   "metadata": {},
   "outputs": [
    {
     "data": {
      "text/plain": [
       "MEMBERSHIP_NUMBER           0\n",
       "MEMBERSHIP_TERM_YEARS       0\n",
       "ANNUAL_FEES                 0\n",
       "MEMBER_MARITAL_STATUS    2597\n",
       "MEMBER_GENDER             611\n",
       "MEMBER_ANNUAL_INCOME     1754\n",
       "MEMBER_OCCUPATION_CD       43\n",
       "MEMBERSHIP_PACKAGE          0\n",
       "MEMBER_AGE_AT_ISSUE         0\n",
       "ADDITIONAL_MEMBERS          0\n",
       "PAYMENT_MODE                0\n",
       "AGENT_CODE                  0\n",
       "MEMBERSHIP_STATUS           0\n",
       "START_DATE (YYYYMMDD)       0\n",
       "END_DATE  (YYYYMMDD)     7219\n",
       "dtype: int64"
      ]
     },
     "execution_count": 18,
     "metadata": {},
     "output_type": "execute_result"
    }
   ],
   "source": [
    "data.isnull().sum()"
   ]
  },
  {
   "cell_type": "code",
   "execution_count": 19,
   "metadata": {},
   "outputs": [
    {
     "data": {
      "text/plain": [
       "MEMBERSHIP_NUMBER         object\n",
       "MEMBERSHIP_TERM_YEARS      int64\n",
       "ANNUAL_FEES              float64\n",
       "MEMBER_MARITAL_STATUS     object\n",
       "MEMBER_GENDER             object\n",
       "MEMBER_ANNUAL_INCOME     float64\n",
       "MEMBER_OCCUPATION_CD     float64\n",
       "MEMBERSHIP_PACKAGE        object\n",
       "MEMBER_AGE_AT_ISSUE        int64\n",
       "ADDITIONAL_MEMBERS         int64\n",
       "PAYMENT_MODE              object\n",
       "AGENT_CODE                object\n",
       "MEMBERSHIP_STATUS         object\n",
       "START_DATE (YYYYMMDD)      int64\n",
       "END_DATE  (YYYYMMDD)     float64\n",
       "dtype: object"
      ]
     },
     "execution_count": 19,
     "metadata": {},
     "output_type": "execute_result"
    }
   ],
   "source": [
    "data.dtypes"
   ]
  },
  {
   "cell_type": "code",
   "execution_count": 20,
   "metadata": {},
   "outputs": [
    {
     "data": {
      "text/plain": [
       "count    10362.000000\n",
       "mean        29.395001\n",
       "std         22.427712\n",
       "min          9.000000\n",
       "25%         12.000000\n",
       "50%         19.000000\n",
       "75%         37.000000\n",
       "max        102.000000\n",
       "Name: MEMBERSHIP_TERM_YEARS, dtype: float64"
      ]
     },
     "execution_count": 20,
     "metadata": {},
     "output_type": "execute_result"
    }
   ],
   "source": [
    "## Data Exploration\n",
    "data[\"MEMBERSHIP_TERM_YEARS\"].describe()"
   ]
  },
  {
   "cell_type": "code",
   "execution_count": 21,
   "metadata": {},
   "outputs": [
    {
     "data": {
      "text/plain": [
       "0.00     9.00\n",
       "0.01    12.00\n",
       "0.02    12.00\n",
       "0.03    12.00\n",
       "0.04    12.00\n",
       "0.05    12.00\n",
       "0.06    12.00\n",
       "0.07    12.00\n",
       "0.08    12.00\n",
       "0.09    12.00\n",
       "0.10    12.00\n",
       "0.11    12.00\n",
       "0.12    12.00\n",
       "0.13    12.00\n",
       "0.14    12.00\n",
       "0.15    12.00\n",
       "0.16    12.00\n",
       "0.17    12.00\n",
       "0.18    12.00\n",
       "0.19    12.00\n",
       "0.20    12.00\n",
       "0.21    12.00\n",
       "0.22    12.00\n",
       "0.23    12.00\n",
       "0.24    12.00\n",
       "0.25    12.00\n",
       "0.26    12.00\n",
       "0.27    12.00\n",
       "0.28    12.00\n",
       "0.29    17.00\n",
       "        ...  \n",
       "0.70    31.00\n",
       "0.71    32.00\n",
       "0.72    32.00\n",
       "0.73    33.00\n",
       "0.74    35.00\n",
       "0.75    37.00\n",
       "0.76    38.00\n",
       "0.77    40.00\n",
       "0.78    42.00\n",
       "0.79    43.00\n",
       "0.80    45.00\n",
       "0.81    47.00\n",
       "0.82    48.00\n",
       "0.83    50.00\n",
       "0.84    52.00\n",
       "0.85    54.00\n",
       "0.86    56.00\n",
       "0.87    58.00\n",
       "0.88    60.00\n",
       "0.89    63.00\n",
       "0.90    65.00\n",
       "0.91    68.00\n",
       "0.92    71.00\n",
       "0.93    75.00\n",
       "0.94    78.34\n",
       "0.95    82.00\n",
       "0.96    87.00\n",
       "0.97    92.00\n",
       "0.98    96.00\n",
       "0.99    99.00\n",
       "Name: MEMBERSHIP_TERM_YEARS, Length: 100, dtype: float64"
      ]
     },
     "execution_count": 21,
     "metadata": {},
     "output_type": "execute_result"
    }
   ],
   "source": [
    "data[\"MEMBERSHIP_TERM_YEARS\"].quantile(q=np.arange(0,1,0.01))"
   ]
  },
  {
   "cell_type": "code",
   "execution_count": 22,
   "metadata": {},
   "outputs": [
    {
     "data": {
      "text/plain": [
       "count    1.036200e+04\n",
       "mean     1.788122e+05\n",
       "std      2.688747e+05\n",
       "min      0.000000e+00\n",
       "25%      1.000000e+05\n",
       "50%      1.182093e+05\n",
       "75%      1.900000e+05\n",
       "max      1.010000e+07\n",
       "Name: ANNUAL_FEES, dtype: float64"
      ]
     },
     "execution_count": 22,
     "metadata": {},
     "output_type": "execute_result"
    }
   ],
   "source": [
    "data[\"ANNUAL_FEES\"].describe()"
   ]
  },
  {
   "cell_type": "code",
   "execution_count": 23,
   "metadata": {},
   "outputs": [
    {
     "data": {
      "text/plain": [
       "0.0         0.000\n",
       "0.1    100000.000\n",
       "0.2    100000.000\n",
       "0.3    100000.000\n",
       "0.4    101000.776\n",
       "0.5    118209.280\n",
       "0.6    125000.000\n",
       "0.7    150001.200\n",
       "0.8    200000.000\n",
       "0.9    299995.656\n",
       "Name: ANNUAL_FEES, dtype: float64"
      ]
     },
     "execution_count": 23,
     "metadata": {},
     "output_type": "execute_result"
    }
   ],
   "source": [
    "data[\"ANNUAL_FEES\"].quantile(q=np.arange(0,1,0.1))"
   ]
  },
  {
   "cell_type": "code",
   "execution_count": 24,
   "metadata": {
    "collapsed": true
   },
   "outputs": [],
   "source": [
    "data[\"ANNUAL_FEES\"]=data[\"ANNUAL_FEES\"].map(lambda x: 299995.656 if x>299995.656 else x)"
   ]
  },
  {
   "cell_type": "code",
   "execution_count": 25,
   "metadata": {},
   "outputs": [
    {
     "data": {
      "text/plain": [
       "INFORCE      7219\n",
       "CANCELLED    3143\n",
       "Name: MEMBERSHIP_STATUS, dtype: int64"
      ]
     },
     "execution_count": 25,
     "metadata": {},
     "output_type": "execute_result"
    }
   ],
   "source": [
    "data.MEMBERSHIP_STATUS.value_counts()"
   ]
  },
  {
   "cell_type": "code",
   "execution_count": 26,
   "metadata": {
    "collapsed": true
   },
   "outputs": [],
   "source": [
    "data['MEMBERSHIP_STATUS'].fillna(\"INFORCE\",inplace=True)"
   ]
  },
  {
   "cell_type": "code",
   "execution_count": 27,
   "metadata": {},
   "outputs": [
    {
     "data": {
      "text/plain": [
       "M    7330\n",
       "F    2421\n",
       "Name: MEMBER_GENDER, dtype: int64"
      ]
     },
     "execution_count": 27,
     "metadata": {},
     "output_type": "execute_result"
    }
   ],
   "source": [
    "data.MEMBER_GENDER.value_counts()"
   ]
  },
  {
   "cell_type": "code",
   "execution_count": 29,
   "metadata": {},
   "outputs": [],
   "source": [
    "data.MEMBER_GENDER.fillna(\"M\",inplace=True)"
   ]
  },
  {
   "cell_type": "code",
   "execution_count": 30,
   "metadata": {},
   "outputs": [
    {
     "data": {
      "text/plain": [
       "count    8.608000e+03\n",
       "mean     1.451100e+06\n",
       "std      1.757174e+07\n",
       "min      9.996000e+03\n",
       "25%      3.999960e+05\n",
       "50%      5.499960e+05\n",
       "75%      9.999960e+05\n",
       "max      1.000000e+09\n",
       "Name: MEMBER_ANNUAL_INCOME, dtype: float64"
      ]
     },
     "execution_count": 30,
     "metadata": {},
     "output_type": "execute_result"
    }
   ],
   "source": [
    "data.MEMBER_ANNUAL_INCOME.describe()"
   ]
  },
  {
   "cell_type": "code",
   "execution_count": 31,
   "metadata": {},
   "outputs": [
    {
     "data": {
      "text/plain": [
       "0.0       9996.0\n",
       "0.1     290000.4\n",
       "0.2     349992.0\n",
       "0.3     399996.0\n",
       "0.4     499992.0\n",
       "0.5     549996.0\n",
       "0.6     699996.0\n",
       "0.7     900000.0\n",
       "0.8    1099992.0\n",
       "0.9    1800000.0\n",
       "Name: MEMBER_ANNUAL_INCOME, dtype: float64"
      ]
     },
     "execution_count": 31,
     "metadata": {},
     "output_type": "execute_result"
    }
   ],
   "source": [
    "data.MEMBER_ANNUAL_INCOME.quantile(q=np.arange(0,1,0.1))"
   ]
  },
  {
   "cell_type": "code",
   "execution_count": 32,
   "metadata": {
    "collapsed": true
   },
   "outputs": [],
   "source": [
    "data.MEMBER_ANNUAL_INCOME=data.MEMBER_ANNUAL_INCOME.map(lambda x:  1800000 if x> 1800000 else x)"
   ]
  },
  {
   "cell_type": "code",
   "execution_count": 33,
   "metadata": {},
   "outputs": [
    {
     "data": {
      "text/plain": [
       "count    8.608000e+03\n",
       "mean     7.436371e+05\n",
       "std      4.908218e+05\n",
       "min      9.996000e+03\n",
       "25%      3.999960e+05\n",
       "50%      5.499960e+05\n",
       "75%      9.999960e+05\n",
       "max      1.800000e+06\n",
       "Name: MEMBER_ANNUAL_INCOME, dtype: float64"
      ]
     },
     "execution_count": 33,
     "metadata": {},
     "output_type": "execute_result"
    }
   ],
   "source": [
    "data.MEMBER_ANNUAL_INCOME.describe()"
   ]
  },
  {
   "cell_type": "code",
   "execution_count": 35,
   "metadata": {},
   "outputs": [],
   "source": [
    "data.MEMBER_ANNUAL_INCOME.fillna(5.499960e+05,inplace=True)"
   ]
  },
  {
   "cell_type": "code",
   "execution_count": 36,
   "metadata": {},
   "outputs": [
    {
     "data": {
      "text/plain": [
       "TYPE-B    6809\n",
       "TYPE-A    3553\n",
       "Name: MEMBERSHIP_PACKAGE, dtype: int64"
      ]
     },
     "execution_count": 36,
     "metadata": {},
     "output_type": "execute_result"
    }
   ],
   "source": [
    "data.MEMBERSHIP_PACKAGE.value_counts()"
   ]
  },
  {
   "cell_type": "code",
   "execution_count": 37,
   "metadata": {},
   "outputs": [
    {
     "data": {
      "text/plain": [
       "count    10362.000000\n",
       "mean        46.798494\n",
       "std         13.897085\n",
       "min          0.000000\n",
       "25%         37.000000\n",
       "50%         46.000000\n",
       "75%         57.000000\n",
       "max         92.000000\n",
       "Name: MEMBER_AGE_AT_ISSUE, dtype: float64"
      ]
     },
     "execution_count": 37,
     "metadata": {},
     "output_type": "execute_result"
    }
   ],
   "source": [
    "data.MEMBER_AGE_AT_ISSUE.describe()"
   ]
  },
  {
   "cell_type": "code",
   "execution_count": 38,
   "metadata": {},
   "outputs": [
    {
     "data": {
      "text/plain": [
       "count    10362.000000\n",
       "mean         1.412276\n",
       "std          1.145136\n",
       "min          0.000000\n",
       "25%          0.000000\n",
       "50%          1.000000\n",
       "75%          2.000000\n",
       "max          3.000000\n",
       "Name: ADDITIONAL_MEMBERS, dtype: float64"
      ]
     },
     "execution_count": 38,
     "metadata": {},
     "output_type": "execute_result"
    }
   ],
   "source": [
    "data.ADDITIONAL_MEMBERS.describe()"
   ]
  },
  {
   "cell_type": "code",
   "execution_count": 39,
   "metadata": {},
   "outputs": [
    {
     "data": {
      "text/plain": [
       "ANNUAL            6589\n",
       "MONTHLY           1881\n",
       "SEMI-ANNUAL       1493\n",
       "QUARTERLY          390\n",
       "SINGLE-PREMIUM       9\n",
       "Name: PAYMENT_MODE, dtype: int64"
      ]
     },
     "execution_count": 39,
     "metadata": {},
     "output_type": "execute_result"
    }
   ],
   "source": [
    "data.PAYMENT_MODE.value_counts()"
   ]
  },
  {
   "cell_type": "code",
   "execution_count": 41,
   "metadata": {},
   "outputs": [],
   "source": [
    "mask=data[data.PAYMENT_MODE==\"SINGLE-PREMIUM\"].index"
   ]
  },
  {
   "cell_type": "code",
   "execution_count": 43,
   "metadata": {},
   "outputs": [],
   "source": [
    "data.drop(mask,inplace=True)"
   ]
  },
  {
   "cell_type": "code",
   "execution_count": 44,
   "metadata": {},
   "outputs": [
    {
     "data": {
      "text/plain": [
       "(10353, 15)"
      ]
     },
     "execution_count": 44,
     "metadata": {},
     "output_type": "execute_result"
    }
   ],
   "source": [
    "data.shape"
   ]
  },
  {
   "cell_type": "code",
   "execution_count": 45,
   "metadata": {
    "collapsed": true
   },
   "outputs": [],
   "source": [
    "## Columns to be used ror modelling\n",
    "col=[\"PAYMENT_MODE\",\"ADDITIONAL_MEMBERS\",\"MEMBER_AGE_AT_ISSUE\",\"MEMBERSHIP_PACKAGE\",\"MEMBER_ANNUAL_INCOME\",\"MEMBER_GENDER\",\n",
    "     \"MEMBERSHIP_STATUS\",\"ANNUAL_FEES\",\"MEMBERSHIP_TERM_YEARS\"]\n",
    "data_mod=data[col]"
   ]
  },
  {
   "cell_type": "code",
   "execution_count": 46,
   "metadata": {},
   "outputs": [
    {
     "data": {
      "text/plain": [
       "INFORCE      7210\n",
       "CANCELLED    3143\n",
       "Name: MEMBERSHIP_STATUS, dtype: int64"
      ]
     },
     "execution_count": 46,
     "metadata": {},
     "output_type": "execute_result"
    }
   ],
   "source": [
    "## Create target variable\n",
    "data_mod.MEMBERSHIP_STATUS.value_counts()"
   ]
  },
  {
   "cell_type": "code",
   "execution_count": 47,
   "metadata": {},
   "outputs": [
    {
     "name": "stderr",
     "output_type": "stream",
     "text": [
      "C:\\ProgramData\\Anaconda3\\lib\\site-packages\\pandas\\core\\generic.py:3110: SettingWithCopyWarning: \n",
      "A value is trying to be set on a copy of a slice from a DataFrame.\n",
      "Try using .loc[row_indexer,col_indexer] = value instead\n",
      "\n",
      "See the caveats in the documentation: http://pandas.pydata.org/pandas-docs/stable/indexing.html#indexing-view-versus-copy\n",
      "  self[name] = value\n"
     ]
    }
   ],
   "source": [
    "data_mod.MEMBERSHIP_STATUS=data_mod.MEMBERSHIP_STATUS.map(lambda x: 0 if x==\"INFORCE\" else 1)"
   ]
  },
  {
   "cell_type": "code",
   "execution_count": 49,
   "metadata": {
    "collapsed": true
   },
   "outputs": [],
   "source": [
    "## Create test train data\n",
    "train=data_mod.sample(frac=0.7,random_state=200)\n",
    "test=data_mod.drop(train.index)"
   ]
  },
  {
   "cell_type": "code",
   "execution_count": 50,
   "metadata": {},
   "outputs": [
    {
     "data": {
      "text/plain": [
       "(7247, 9)"
      ]
     },
     "execution_count": 50,
     "metadata": {},
     "output_type": "execute_result"
    }
   ],
   "source": [
    "train.shape"
   ]
  },
  {
   "cell_type": "code",
   "execution_count": 51,
   "metadata": {},
   "outputs": [
    {
     "data": {
      "text/plain": [
       "(3106, 9)"
      ]
     },
     "execution_count": 51,
     "metadata": {},
     "output_type": "execute_result"
    }
   ],
   "source": [
    "test.shape"
   ]
  },
  {
   "cell_type": "code",
   "execution_count": 52,
   "metadata": {},
   "outputs": [
    {
     "name": "stderr",
     "output_type": "stream",
     "text": [
      "C:\\ProgramData\\Anaconda3\\lib\\site-packages\\statsmodels\\compat\\pandas.py:56: FutureWarning: The pandas.core.datetools module is deprecated and will be removed in a future version. Please use the pandas.tseries module instead.\n",
      "  from pandas.core import datetools\n"
     ]
    }
   ],
   "source": [
    "## Model\n",
    "import statsmodels.formula.api as smf\n",
    "import statsmodels.api as sm\n",
    "from patsy import dmatrices"
   ]
  },
  {
   "cell_type": "code",
   "execution_count": 53,
   "metadata": {},
   "outputs": [
    {
     "data": {
      "text/plain": [
       "PAYMENT_MODE              object\n",
       "ADDITIONAL_MEMBERS         int64\n",
       "MEMBER_AGE_AT_ISSUE        int64\n",
       "MEMBERSHIP_PACKAGE        object\n",
       "MEMBER_ANNUAL_INCOME     float64\n",
       "MEMBER_GENDER             object\n",
       "MEMBERSHIP_STATUS          int64\n",
       "ANNUAL_FEES              float64\n",
       "MEMBERSHIP_TERM_YEARS      int64\n",
       "dtype: object"
      ]
     },
     "execution_count": 53,
     "metadata": {},
     "output_type": "execute_result"
    }
   ],
   "source": [
    "train.dtypes"
   ]
  },
  {
   "cell_type": "code",
   "execution_count": 54,
   "metadata": {},
   "outputs": [
    {
     "data": {
      "text/plain": [
       "'PAYMENT_MODE+ADDITIONAL_MEMBERS+MEMBER_AGE_AT_ISSUE+MEMBERSHIP_PACKAGE+MEMBER_ANNUAL_INCOME+MEMBER_GENDER+MEMBERSHIP_STATUS+ANNUAL_FEES+MEMBERSHIP_TERM_YEARS'"
      ]
     },
     "execution_count": 54,
     "metadata": {},
     "output_type": "execute_result"
    }
   ],
   "source": [
    "\"+\".join(train.columns)"
   ]
  },
  {
   "cell_type": "code",
   "execution_count": 55,
   "metadata": {
    "collapsed": true
   },
   "outputs": [],
   "source": [
    "model=smf.glm('''MEMBERSHIP_STATUS~C(PAYMENT_MODE)+ADDITIONAL_MEMBERS+MEMBER_AGE_AT_ISSUE+C(MEMBERSHIP_PACKAGE)\n",
    "               +MEMBER_ANNUAL_INCOME+C(MEMBER_GENDER)+ANNUAL_FEES+MEMBERSHIP_TERM_YEARS''',data=train,\n",
    "                family=sm.families.Binomial()).fit()"
   ]
  },
  {
   "cell_type": "code",
   "execution_count": 56,
   "metadata": {},
   "outputs": [
    {
     "name": "stdout",
     "output_type": "stream",
     "text": [
      "                       Results: Generalized linear model\n",
      "================================================================================\n",
      "Model:                   GLM                    AIC:                 8379.7797  \n",
      "Link Function:           logit                  BIC:                 -55958.2693\n",
      "Dependent Variable:      MEMBERSHIP_STATUS      Log-Likelihood:      -4178.9    \n",
      "Date:                    2017-12-08 10:48       LL-Null:             -4456.9    \n",
      "No. Observations:        7247                   Deviance:            8357.8     \n",
      "Df Model:                10                     Pearson chi2:        7.19e+03   \n",
      "Df Residuals:            7236                   Scale:               1.0000     \n",
      "Method:                  IRLS                                                   \n",
      "--------------------------------------------------------------------------------\n",
      "                                 Coef.  Std.Err.    z     P>|z|   [0.025  0.975]\n",
      "--------------------------------------------------------------------------------\n",
      "Intercept                       -1.6549   0.1528 -10.8314 0.0000 -1.9543 -1.3554\n",
      "C(PAYMENT_MODE)[T.MONTHLY]       0.1469   0.0738   1.9906 0.0465  0.0023  0.2915\n",
      "C(PAYMENT_MODE)[T.QUARTERLY]     0.5061   0.1339   3.7806 0.0002  0.2437  0.7684\n",
      "C(PAYMENT_MODE)[T.SEMI-ANNUAL]   0.3695   0.0748   4.9414 0.0000  0.2229  0.5160\n",
      "C(MEMBERSHIP_PACKAGE)[T.TYPE-B]  1.1756   0.0698  16.8460 0.0000  1.0388  1.3124\n",
      "C(MEMBER_GENDER)[T.M]            0.2010   0.0649   3.0955 0.0020  0.0737  0.3283\n",
      "ADDITIONAL_MEMBERS              -0.0621   0.0239  -2.6028 0.0092 -0.1088 -0.0153\n",
      "MEMBER_AGE_AT_ISSUE             -0.0103   0.0019  -5.3001 0.0000 -0.0141 -0.0065\n",
      "MEMBER_ANNUAL_INCOME            -0.0000   0.0000  -6.7183 0.0000 -0.0000 -0.0000\n",
      "ANNUAL_FEES                      0.0000   0.0000   7.9470 0.0000  0.0000  0.0000\n",
      "MEMBERSHIP_TERM_YEARS            0.0037   0.0014   2.7326 0.0063  0.0010  0.0064\n",
      "================================================================================\n",
      "\n"
     ]
    }
   ],
   "source": [
    "print(model.summary2())"
   ]
  },
  {
   "cell_type": "code",
   "execution_count": 58,
   "metadata": {},
   "outputs": [],
   "source": [
    "predictions=model.predict(test)"
   ]
  },
  {
   "cell_type": "code",
   "execution_count": 59,
   "metadata": {},
   "outputs": [
    {
     "data": {
      "text/plain": [
       "2     0.231347\n",
       "3     0.225863\n",
       "5     0.311249\n",
       "12    0.435447\n",
       "17    0.443697\n",
       "dtype: float64"
      ]
     },
     "execution_count": 59,
     "metadata": {},
     "output_type": "execute_result"
    }
   ],
   "source": [
    "predictions.head()"
   ]
  },
  {
   "cell_type": "code",
   "execution_count": 60,
   "metadata": {
    "collapsed": true
   },
   "outputs": [],
   "source": [
    "import sklearn.metrics as metrics"
   ]
  },
  {
   "cell_type": "code",
   "execution_count": 62,
   "metadata": {
    "collapsed": true
   },
   "outputs": [],
   "source": [
    "fpr,tpr,thresholds=metrics.roc_curve(test['MEMBERSHIP_STATUS'],predictions)"
   ]
  },
  {
   "cell_type": "code",
   "execution_count": 63,
   "metadata": {},
   "outputs": [
    {
     "data": {
      "text/plain": [
       "[<matplotlib.lines.Line2D at 0x718e62208>]"
      ]
     },
     "execution_count": 63,
     "metadata": {},
     "output_type": "execute_result"
    },
    {
     "data": {
      "image/png": "[encoded data removed]",
      "text/plain": [
       "<matplotlib.figure.Figure at 0x718e5a518>"
      ]
     },
     "metadata": {},
     "output_type": "display_data"
    }
   ],
   "source": [
    "plt.plot(fpr,tpr,\"-\")"
   ]
  },
  {
   "cell_type": "code",
   "execution_count": 64,
   "metadata": {},
   "outputs": [
    {
     "data": {
      "text/plain": [
       "0.65078457282176416"
      ]
     },
     "execution_count": 64,
     "metadata": {},
     "output_type": "execute_result"
    }
   ],
   "source": [
    "metrics.roc_auc_score(test[\"MEMBERSHIP_STATUS\"],predictions)"
   ]
  },
  {
   "cell_type": "code",
   "execution_count": 65,
   "metadata": {
    "collapsed": true
   },
   "outputs": [],
   "source": [
    "gains=pd.DataFrame()"
   ]
  },
  {
   "cell_type": "code",
   "execution_count": 66,
   "metadata": {
    "collapsed": true
   },
   "outputs": [],
   "source": [
    "gains['Prob_Quant']=pd.qcut(predictions,q="
   ]
  },
  {
   "cell_type": "code",
   "execution_count": 67,
   "metadata": {
    "collapsed": true
   },
   "outputs": [],
   "source": [
    "gains[\"Target\"]=test[\"MEMBERSHIP_STATUS\"]"
   ]
  },
  {
   "cell_type": "code",
   "execution_count": 68,
   "metadata": {},
   "outputs": [
    {
     "data": {
      "text/html": [
       "<div>\n",
       "<style>\n",
       "    .dataframe thead tr:only-child th {\n",
       "        text-align: right;\n",
       "    }\n",
       "\n",
       "    .dataframe thead th {\n",
       "        text-align: left;\n",
       "    }\n",
       "\n",
       "    .dataframe tbody tr th {\n",
       "        vertical-align: top;\n",
       "    }\n",
       "</style>\n",
       "<table border=\"1\" class=\"dataframe\">\n",
       "  <thead>\n",
       "    <tr style=\"text-align: right;\">\n",
       "      <th></th>\n",
       "      <th>Prob_Quant</th>\n",
       "      <th>Target</th>\n",
       "    </tr>\n",
       "  </thead>\n",
       "  <tbody>\n",
       "    <tr>\n",
       "      <th>2</th>\n",
       "      <td>(0.208, 0.276]</td>\n",
       "      <td>0</td>\n",
       "    </tr>\n",
       "    <tr>\n",
       "      <th>3</th>\n",
       "      <td>(0.208, 0.276]</td>\n",
       "      <td>0</td>\n",
       "    </tr>\n",
       "    <tr>\n",
       "      <th>5</th>\n",
       "      <td>(0.276, 0.315]</td>\n",
       "      <td>0</td>\n",
       "    </tr>\n",
       "    <tr>\n",
       "      <th>12</th>\n",
       "      <td>(0.414, 0.457]</td>\n",
       "      <td>1</td>\n",
       "    </tr>\n",
       "    <tr>\n",
       "      <th>17</th>\n",
       "      <td>(0.414, 0.457]</td>\n",
       "      <td>1</td>\n",
       "    </tr>\n",
       "  </tbody>\n",
       "</table>\n",
       "</div>"
      ],
      "text/plain": [
       "        Prob_Quant  Target\n",
       "2   (0.208, 0.276]       0\n",
       "3   (0.208, 0.276]       0\n",
       "5   (0.276, 0.315]       0\n",
       "12  (0.414, 0.457]       1\n",
       "17  (0.414, 0.457]       1"
      ]
     },
     "execution_count": 68,
     "metadata": {},
     "output_type": "execute_result"
    }
   ],
   "source": [
    "gains.head()"
   ]
  },
  {
   "cell_type": "code",
   "execution_count": 70,
   "metadata": {},
   "outputs": [],
   "source": [
    "gains=gains.groupby(\"Prob_Quant\")['Target'].agg([np.sum,np.size]).reset_index().sort_values(\"Prob_Quant\",ascending=False)"
   ]
  },
  {
   "cell_type": "code",
   "execution_count": 71,
   "metadata": {},
   "outputs": [
    {
     "data": {
      "text/html": [
       "<div>\n",
       "<style>\n",
       "    .dataframe thead tr:only-child th {\n",
       "        text-align: right;\n",
       "    }\n",
       "\n",
       "    .dataframe thead th {\n",
       "        text-align: left;\n",
       "    }\n",
       "\n",
       "    .dataframe tbody tr th {\n",
       "        vertical-align: top;\n",
       "    }\n",
       "</style>\n",
       "<table border=\"1\" class=\"dataframe\">\n",
       "  <thead>\n",
       "    <tr style=\"text-align: right;\">\n",
       "      <th></th>\n",
       "      <th>Prob_Quant</th>\n",
       "      <th>sum</th>\n",
       "      <th>size</th>\n",
       "    </tr>\n",
       "  </thead>\n",
       "  <tbody>\n",
       "    <tr>\n",
       "      <th>8</th>\n",
       "      <td>(0.414, 0.457]</td>\n",
       "      <td>127</td>\n",
       "      <td>310</td>\n",
       "    </tr>\n",
       "    <tr>\n",
       "      <th>7</th>\n",
       "      <td>(0.375, 0.414]</td>\n",
       "      <td>120</td>\n",
       "      <td>311</td>\n",
       "    </tr>\n",
       "    <tr>\n",
       "      <th>6</th>\n",
       "      <td>(0.345, 0.375]</td>\n",
       "      <td>124</td>\n",
       "      <td>310</td>\n",
       "    </tr>\n",
       "    <tr>\n",
       "      <th>5</th>\n",
       "      <td>(0.315, 0.345]</td>\n",
       "      <td>109</td>\n",
       "      <td>311</td>\n",
       "    </tr>\n",
       "    <tr>\n",
       "      <th>4</th>\n",
       "      <td>(0.276, 0.315]</td>\n",
       "      <td>80</td>\n",
       "      <td>310</td>\n",
       "    </tr>\n",
       "  </tbody>\n",
       "</table>\n",
       "</div>"
      ],
      "text/plain": [
       "       Prob_Quant  sum  size\n",
       "8  (0.414, 0.457]  127   310\n",
       "7  (0.375, 0.414]  120   311\n",
       "6  (0.345, 0.375]  124   310\n",
       "5  (0.315, 0.345]  109   311\n",
       "4  (0.276, 0.315]   80   310"
      ]
     },
     "execution_count": 71,
     "metadata": {},
     "output_type": "execute_result"
    }
   ],
   "source": [
    "gains.head()"
   ]
  },
  {
   "cell_type": "code",
   "execution_count": 72,
   "metadata": {
    "collapsed": true
   },
   "outputs": [],
   "source": [
    "gains['Event_Rate']=gains[\"sum\"]/gains[\"sum\"].sum()"
   ]
  },
  {
   "cell_type": "code",
   "execution_count": 73,
   "metadata": {},
   "outputs": [
    {
     "data": {
      "text/html": [
       "<div>\n",
       "<style>\n",
       "    .dataframe thead tr:only-child th {\n",
       "        text-align: right;\n",
       "    }\n",
       "\n",
       "    .dataframe thead th {\n",
       "        text-align: left;\n",
       "    }\n",
       "\n",
       "    .dataframe tbody tr th {\n",
       "        vertical-align: top;\n",
       "    }\n",
       "</style>\n",
       "<table border=\"1\" class=\"dataframe\">\n",
       "  <thead>\n",
       "    <tr style=\"text-align: right;\">\n",
       "      <th></th>\n",
       "      <th>Prob_Quant</th>\n",
       "      <th>sum</th>\n",
       "      <th>size</th>\n",
       "      <th>Event_Rate</th>\n",
       "    </tr>\n",
       "  </thead>\n",
       "  <tbody>\n",
       "    <tr>\n",
       "      <th>8</th>\n",
       "      <td>(0.414, 0.457]</td>\n",
       "      <td>127</td>\n",
       "      <td>310</td>\n",
       "      <td>0.159748</td>\n",
       "    </tr>\n",
       "    <tr>\n",
       "      <th>7</th>\n",
       "      <td>(0.375, 0.414]</td>\n",
       "      <td>120</td>\n",
       "      <td>311</td>\n",
       "      <td>0.150943</td>\n",
       "    </tr>\n",
       "    <tr>\n",
       "      <th>6</th>\n",
       "      <td>(0.345, 0.375]</td>\n",
       "      <td>124</td>\n",
       "      <td>310</td>\n",
       "      <td>0.155975</td>\n",
       "    </tr>\n",
       "    <tr>\n",
       "      <th>5</th>\n",
       "      <td>(0.315, 0.345]</td>\n",
       "      <td>109</td>\n",
       "      <td>311</td>\n",
       "      <td>0.137107</td>\n",
       "    </tr>\n",
       "    <tr>\n",
       "      <th>4</th>\n",
       "      <td>(0.276, 0.315]</td>\n",
       "      <td>80</td>\n",
       "      <td>310</td>\n",
       "      <td>0.100629</td>\n",
       "    </tr>\n",
       "  </tbody>\n",
       "</table>\n",
       "</div>"
      ],
      "text/plain": [
       "       Prob_Quant  sum  size  Event_Rate\n",
       "8  (0.414, 0.457]  127   310    0.159748\n",
       "7  (0.375, 0.414]  120   311    0.150943\n",
       "6  (0.345, 0.375]  124   310    0.155975\n",
       "5  (0.315, 0.345]  109   311    0.137107\n",
       "4  (0.276, 0.315]   80   310    0.100629"
      ]
     },
     "execution_count": 73,
     "metadata": {},
     "output_type": "execute_result"
    }
   ],
   "source": [
    "gains.head()"
   ]
  },
  {
   "cell_type": "code",
   "execution_count": 75,
   "metadata": {},
   "outputs": [],
   "source": [
    "gains[\"Cum_Rate\"]=gains[\"Event_Rate\"].cumsum()"
   ]
  },
  {
   "cell_type": "code",
   "execution_count": 76,
   "metadata": {},
   "outputs": [
    {
     "data": {
      "text/html": [
       "<div>\n",
       "<style>\n",
       "    .dataframe thead tr:only-child th {\n",
       "        text-align: right;\n",
       "    }\n",
       "\n",
       "    .dataframe thead th {\n",
       "        text-align: left;\n",
       "    }\n",
       "\n",
       "    .dataframe tbody tr th {\n",
       "        vertical-align: top;\n",
       "    }\n",
       "</style>\n",
       "<table border=\"1\" class=\"dataframe\">\n",
       "  <thead>\n",
       "    <tr style=\"text-align: right;\">\n",
       "      <th></th>\n",
       "      <th>Prob_Quant</th>\n",
       "      <th>sum</th>\n",
       "      <th>size</th>\n",
       "      <th>Event_Rate</th>\n",
       "      <th>Cum_Rate</th>\n",
       "    </tr>\n",
       "  </thead>\n",
       "  <tbody>\n",
       "    <tr>\n",
       "      <th>8</th>\n",
       "      <td>(0.414, 0.457]</td>\n",
       "      <td>127</td>\n",
       "      <td>310</td>\n",
       "      <td>0.159748</td>\n",
       "      <td>0.159748</td>\n",
       "    </tr>\n",
       "    <tr>\n",
       "      <th>7</th>\n",
       "      <td>(0.375, 0.414]</td>\n",
       "      <td>120</td>\n",
       "      <td>311</td>\n",
       "      <td>0.150943</td>\n",
       "      <td>0.310692</td>\n",
       "    </tr>\n",
       "    <tr>\n",
       "      <th>6</th>\n",
       "      <td>(0.345, 0.375]</td>\n",
       "      <td>124</td>\n",
       "      <td>310</td>\n",
       "      <td>0.155975</td>\n",
       "      <td>0.466667</td>\n",
       "    </tr>\n",
       "    <tr>\n",
       "      <th>5</th>\n",
       "      <td>(0.315, 0.345]</td>\n",
       "      <td>109</td>\n",
       "      <td>311</td>\n",
       "      <td>0.137107</td>\n",
       "      <td>0.603774</td>\n",
       "    </tr>\n",
       "    <tr>\n",
       "      <th>4</th>\n",
       "      <td>(0.276, 0.315]</td>\n",
       "      <td>80</td>\n",
       "      <td>310</td>\n",
       "      <td>0.100629</td>\n",
       "      <td>0.704403</td>\n",
       "    </tr>\n",
       "  </tbody>\n",
       "</table>\n",
       "</div>"
      ],
      "text/plain": [
       "       Prob_Quant  sum  size  Event_Rate  Cum_Rate\n",
       "8  (0.414, 0.457]  127   310    0.159748  0.159748\n",
       "7  (0.375, 0.414]  120   311    0.150943  0.310692\n",
       "6  (0.345, 0.375]  124   310    0.155975  0.466667\n",
       "5  (0.315, 0.345]  109   311    0.137107  0.603774\n",
       "4  (0.276, 0.315]   80   310    0.100629  0.704403"
      ]
     },
     "execution_count": 76,
     "metadata": {},
     "output_type": "execute_result"
    }
   ],
   "source": [
    "gains.head()"
   ]
  },
  {
   "cell_type": "code",
   "execution_count": null,
   "metadata": {
    "collapsed": true
   },
   "outputs": [],
   "source": []
  }
 ],
 "metadata": {
  "kernelspec": {
   "display_name": "Python 3",
   "language": "python",
   "name": "python3"
  },
  "language_info": {
   "codemirror_mode": {
    "name": "ipython",
    "version": 3
   },
   "file_extension": ".py",
   "mimetype": "text/x-python",
   "name": "python",
   "nbconvert_exporter": "python",
   "pygments_lexer": "ipython3",
   "version": "3.6.3"
  }
 },
 "nbformat": 4,
 "nbformat_minor": 2
}
