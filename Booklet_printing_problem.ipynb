{
 "cells": [
  {
   "cell_type": "code",
   "execution_count": null,
   "metadata": {},
   "outputs": [],
   "source": []
  },
  {
   "cell_type": "code",
   "execution_count": 94,
   "metadata": {},
   "outputs": [],
   "source": [
    "def forward_fill(row_id,col_id,page_number):\n",
    "    while(row_id<rows and page_number<=noofPages):\n",
    "        booklet_array[row_id][col_id]=page_number\n",
    "        #print(page_number)\n",
    "        row_id+=1\n",
    "        page_number+=1\n",
    "        \n",
    "    return row_id,page_number\n",
    "\n",
    "def backward_fill(row_id,col_id,page_number):\n",
    "    while(row_id>=0 and page_number<=noofPages):\n",
    "        booklet_array[row_id][col_id]=page_number\n",
    "        #print(page_number)\n",
    "        row_id-=1\n",
    "        page_number+=1\n",
    "\n",
    "def check_blank(m,n):\n",
    "    if booklet_array[m][n]== 0:\n",
    "        return \"blank\"\n",
    "    else:\n",
    "        return str(booklet_array[m][n])\n",
    "\n",
    "def print_booklet(booklet_arr):\n",
    "    for i in range(0,rows,2):\n",
    "        curr_sheet_no=int(i/2)+1\n",
    "        #print(booklet_array[i][0], booklet_array[i][1])\n",
    "        x1=check_blank(i,0)\n",
    "        x2=check_blank(i,1)\n",
    "        x3=check_blank(i+1,1)\n",
    "        x4=check_blank(i+1,0)\n",
    "        if(x1==\"blank\" and x2==\"blank\" and x3==\"blank\" and x4==\"blank\"):\n",
    "            continue\n",
    "        if(x1==\"blank\" and x2==\"blank\"):\n",
    "            pass\n",
    "        else:\n",
    "            string=\"s\"+str(curr_sheet_no)+\",front,\"+str(check_blank(i,0))+\",\"+str(check_blank(i,1))\n",
    "            print(string)\n",
    "        #print(\"s{0},front,{1},{2}\".format(curr_sheet_no, check_blank(i,0),check_blank(i,1)))\n",
    "        #print(booklet_array[i+1][0], booklet_array[i+1][1])\n",
    "        if(x3==\"blank\" and x4==\"blank\"):\n",
    "            pass\n",
    "        else:\n",
    "            string=\"s\"+str(curr_sheet_no)+\",back,\"+str(check_blank(i+1,1))+\",\"+str(check_blank(i+1,0))\n",
    "            print(string)\n",
    "        #print(\"s{0},back,{1},{2}\".format(curr_sheet_no,check_blank(i+1,1),check_blank(i+1,0)))"
   ]
  },
  {
   "cell_type": "code",
   "execution_count": 101,
   "metadata": {},
   "outputs": [
    {
     "name": "stdout",
     "output_type": "stream",
     "text": [
      "8\n",
      "s1,front,8,1\n",
      "s1,back,2,7\n",
      "s2,front,6,3\n",
      "s2,back,4,5\n"
     ]
    }
   ],
   "source": [
    "n = int(input())\n",
    "noofPages=n\n",
    "noofSheets=int((noofPages/4)+ (0 if noofPages%4 ==0 else 1))\n",
    "rows=noofSheets*2\n",
    "cols=2\n",
    "#booklet_array=np.zeros((rows,cols),dtype=int)\n",
    "booklet_array = [[0 for x in range(cols)] for y in range(rows)]\n",
    "curr_row_id,page_number=forward_fill(0,1,1)\n",
    "backward_fill(curr_row_id-1,0,page_number)\n",
    "print_booklet(booklet_array)"
   ]
  },
  {
   "cell_type": "code",
   "execution_count": 100,
   "metadata": {},
   "outputs": [],
   "source": [
    "booklet_array = [[0 for x in range(cols)] for y in range(rows)]"
   ]
  },
  {
   "cell_type": "code",
   "execution_count": 28,
   "metadata": {},
   "outputs": [
    {
     "data": {
      "text/plain": [
       "2"
      ]
     },
     "execution_count": 28,
     "metadata": {},
     "output_type": "execute_result"
    }
   ],
   "source": []
  },
  {
   "cell_type": "code",
   "execution_count": 82,
   "metadata": {},
   "outputs": [
    {
     "name": "stdout",
     "output_type": "stream",
     "text": [
      "s1,front,blank,1\n",
      "s1,back,blank,blank\n"
     ]
    }
   ],
   "source": [
    "x1=\"blank\"\n",
    "x2=1\n",
    "x3=\"blank\"\n",
    "x4=\"blank\"\n",
    "if(x1==\"blank\" and x2==\"blank\" and x3==\"blank\" and x4==\"blank\"):\n",
    "    pass\n",
    "if(x1==\"blank\" and x2==\"blank\"):\n",
    "    pass\n",
    "else:\n",
    "    string=\"s\"+str(1)+\",front,\"+str(x1)+\",\"+str(x2)\n",
    "    print(string)\n",
    "        #print(\"s{0},front,{1},{2}\".format(curr_sheet_no, check_blank(i,0),check_blank(i,1)))\n",
    "        #print(booklet_array[i+1][0], booklet_array[i+1][1])\n",
    "if(x2==\"blank\" and x3==\"blank\"):\n",
    "    pass\n",
    "else:\n",
    "    string=\"s\"+str(1)+\",back,\"+str(x3)+\",\"+str(x4)\n",
    "    print(string)"
   ]
  },
  {
   "cell_type": "code",
   "execution_count": 97,
   "metadata": {},
   "outputs": [
    {
     "data": {
      "text/plain": [
       "3"
      ]
     },
     "execution_count": 97,
     "metadata": {},
     "output_type": "execute_result"
    }
   ],
   "source": [
    "7%4"
   ]
  },
  {
   "cell_type": "code",
   "execution_count": null,
   "metadata": {},
   "outputs": [],
   "source": []
  }
 ],
 "metadata": {
  "kernelspec": {
   "display_name": "Python 3",
   "language": "python",
   "name": "python3"
  },
  "language_info": {
   "codemirror_mode": {
    "name": "ipython",
    "version": 3
   },
   "file_extension": ".py",
   "mimetype": "text/x-python",
   "name": "python",
   "nbconvert_exporter": "python",
   "pygments_lexer": "ipython3",
   "version": "3.6.5"
  }
 },
 "nbformat": 4,
 "nbformat_minor": 2
}
